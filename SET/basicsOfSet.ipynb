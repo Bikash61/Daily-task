{
 "cells": [
  {
   "cell_type": "code",
   "execution_count": 2,
   "id": "29209bbf-93ee-4302-a0bf-c49d81e4befb",
   "metadata": {},
   "outputs": [
    {
     "name": "stdout",
     "output_type": "stream",
     "text": [
      "{1, 3, 90, 'man', 'a', 'pan'}\n"
     ]
    }
   ],
   "source": [
    "#set \n",
    "m = {'pan', 'man', 1, 3, 90 ,'man', 1, True, 'a'}\n",
    "print(m)"
   ]
  },
  {
   "cell_type": "code",
   "execution_count": 4,
   "id": "8107a4f9-4e81-498a-8266-435ddc39e154",
   "metadata": {},
   "outputs": [
    {
     "name": "stdout",
     "output_type": "stream",
     "text": [
      "['dog', 'man', 'cat']\n",
      "{'dog', 'man', 'cat'}\n"
     ]
    }
   ],
   "source": [
    "#Changing set into list and list into set\n",
    "st = {'man', 'cat', 'dog'}\n",
    "s = list(st)\n",
    "st = set(s)\n",
    "print(s)\n",
    "print(st)"
   ]
  },
  {
   "cell_type": "code",
   "execution_count": null,
   "id": "799aa06e-c0e8-4eb0-a6ef-320b3a71a38b",
   "metadata": {},
   "outputs": [],
   "source": []
  }
 ],
 "metadata": {
  "kernelspec": {
   "display_name": "Python 3 (ipykernel)",
   "language": "python",
   "name": "python3"
  },
  "language_info": {
   "codemirror_mode": {
    "name": "ipython",
    "version": 3
   },
   "file_extension": ".py",
   "mimetype": "text/x-python",
   "name": "python",
   "nbconvert_exporter": "python",
   "pygments_lexer": "ipython3",
   "version": "3.11.5"
  }
 },
 "nbformat": 4,
 "nbformat_minor": 5
}
