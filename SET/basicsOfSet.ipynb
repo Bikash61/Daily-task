{
 "cells": [
  {
   "cell_type": "code",
   "execution_count": 2,
   "id": "29209bbf-93ee-4302-a0bf-c49d81e4befb",
   "metadata": {},
   "outputs": [
    {
     "name": "stdout",
     "output_type": "stream",
     "text": [
      "{1, 3, 90, 'man', 'a', 'pan'}\n"
     ]
    }
   ],
   "source": [
    "#set \n",
    "m = {'pan', 'man', 1, 3, 90 ,'man', 1, True, 'a'}\n",
    "print(m)"
   ]
  },
  {
   "cell_type": "code",
   "execution_count": 4,
   "id": "8107a4f9-4e81-498a-8266-435ddc39e154",
   "metadata": {},
   "outputs": [
    {
     "name": "stdout",
     "output_type": "stream",
     "text": [
      "['dog', 'man', 'cat']\n",
      "{'dog', 'man', 'cat'}\n"
     ]
    }
   ],
   "source": [
    "#Changing set into list and list into set\n",
    "st = {'man', 'cat', 'dog'}\n",
    "s = list(st)\n",
    "st = set(s)\n",
    "print(s)\n",
    "print(st)"
   ]
  },
  {
   "cell_type": "code",
   "execution_count": 1,
   "id": "799aa06e-c0e8-4eb0-a6ef-320b3a71a38b",
   "metadata": {},
   "outputs": [
    {
     "name": "stdout",
     "output_type": "stream",
     "text": [
      "{'dog', 'cat', 'man'}\n",
      "{'dog', 'cat', 'man'}\n",
      "{'dog', 'cat', 'man'}\n"
     ]
    }
   ],
   "source": [
    "st = {'man', 'cat', 'dog'}\n",
    "for x in st:\n",
    "    print(st)"
   ]
  },
  {
   "cell_type": "code",
   "execution_count": 3,
   "id": "d4e40356-ebaa-4817-b550-bf332e4ba415",
   "metadata": {},
   "outputs": [
    {
     "name": "stdout",
     "output_type": "stream",
     "text": [
      "True\n",
      "False\n"
     ]
    }
   ],
   "source": [
    "print('man' in st)\n",
    "print('pam' in st )"
   ]
  },
  {
   "cell_type": "code",
   "execution_count": 4,
   "id": "3f8d6e9c-8d27-4b47-90d6-2eedf76b60dd",
   "metadata": {},
   "outputs": [
    {
     "name": "stdout",
     "output_type": "stream",
     "text": [
      "{'dog', 'cat', 'mango', 'man'}\n"
     ]
    }
   ],
   "source": [
    "st.add(\"mango\")\n",
    "print(st)"
   ]
  },
  {
   "cell_type": "code",
   "execution_count": 9,
   "id": "4137fc33-abb0-489a-abcc-274f42247d45",
   "metadata": {},
   "outputs": [
    {
     "name": "stdout",
     "output_type": "stream",
     "text": [
      "{'apple', 'turnip', 'brinjal', 'onion', 'mango', 'Cherry'}\n",
      "{1, 3, 4, 5, 'b', 'a', 'c'}\n"
     ]
    }
   ],
   "source": [
    "#Using update method in the object\n",
    "\n",
    "fruits = {\"mango\", \"apple\", \"Cherry\"}\n",
    "veg = {\"brinjal\", \"onion\", \"turnip\" }\n",
    "fruits.update(veg)\n",
    "print(fruits)\n",
    "\n",
    "#you can update list or tuple into set too.\n",
    "letter = {\"a\", \"b\", \"c\"}\n",
    "num = [1,3,4,5]\n",
    "letter.update(num)\n",
    "print(letter)"
   ]
  },
  {
   "cell_type": "code",
   "execution_count": 11,
   "id": "724523dd-7811-41ab-a47f-705f58bf47f1",
   "metadata": {},
   "outputs": [
    {
     "name": "stdout",
     "output_type": "stream",
     "text": [
      "{'apple', 'Cherry'}\n",
      "{'apple', 'banana', 'Cherry'}\n",
      "{'apple', 'banana'}\n"
     ]
    }
   ],
   "source": [
    "#removing items in set\n",
    "fruits = {\"mango\", \"apple\", \"Cherry\"}\n",
    "fruits.remove(\"mango\")\n",
    "print(fruits)\n",
    "fruits.add(\"banana\")\n",
    "print(fruits)\n",
    "fruits.discard(\"Cherry\")\n",
    "print(fruits)"
   ]
  },
  {
   "cell_type": "code",
   "execution_count": 14,
   "id": "a2d4f56e-6385-4bde-bcc6-bc2f7405cba1",
   "metadata": {},
   "outputs": [
    {
     "name": "stdout",
     "output_type": "stream",
     "text": [
      "{'mango', 'papaya', 'carrot'}\n"
     ]
    }
   ],
   "source": [
    "#Remove a random item using pop\n",
    "fruits = {\"mango\", \"papaya\", \"banana\", \"carrot\"}\n",
    "fruits.pop()\n",
    "print(fruits)"
   ]
  },
  {
   "cell_type": "code",
   "execution_count": null,
   "id": "2799f820-4d3e-4e5c-93fa-46b1c19c5b26",
   "metadata": {},
   "outputs": [],
   "source": []
  },
  {
   "cell_type": "code",
   "execution_count": null,
   "id": "915ddbce-db3e-4c80-bc49-bd5011428edc",
   "metadata": {},
   "outputs": [],
   "source": []
  },
  {
   "cell_type": "code",
   "execution_count": null,
   "id": "c3576d13-57b4-4049-b50f-8ff8821db26f",
   "metadata": {},
   "outputs": [],
   "source": []
  },
  {
   "cell_type": "code",
   "execution_count": null,
   "id": "ca321d9c-b918-43c4-80f9-c7647fa7e36c",
   "metadata": {},
   "outputs": [],
   "source": []
  }
 ],
 "metadata": {
  "kernelspec": {
   "display_name": "Python 3 (ipykernel)",
   "language": "python",
   "name": "python3"
  },
  "language_info": {
   "codemirror_mode": {
    "name": "ipython",
    "version": 3
   },
   "file_extension": ".py",
   "mimetype": "text/x-python",
   "name": "python",
   "nbconvert_exporter": "python",
   "pygments_lexer": "ipython3",
   "version": "3.11.5"
  }
 },
 "nbformat": 4,
 "nbformat_minor": 5
}
