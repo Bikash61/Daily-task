{
 "cells": [
  {
   "cell_type": "code",
   "execution_count": 1,
   "id": "5d52023a-4e3a-4319-8573-00e0890f0492",
   "metadata": {},
   "outputs": [
    {
     "name": "stdout",
     "output_type": "stream",
     "text": [
      "Hello World!\n"
     ]
    }
   ],
   "source": [
    "print(\"Hello World!\")"
   ]
  },
  {
   "cell_type": "code",
   "execution_count": 2,
   "id": "f2c45a26-3e87-47f1-94c6-63fb244453c8",
   "metadata": {},
   "outputs": [
    {
     "name": "stdout",
     "output_type": "stream",
     "text": [
      "Collecting qrcode\n",
      "  Obtaining dependency information for qrcode from https://files.pythonhosted.org/packages/24/79/aaf0c1c7214f2632badb2771d770b1500d3d7cbdf2590ae62e721ec50584/qrcode-7.4.2-py3-none-any.whl.metadata\n",
      "  Downloading qrcode-7.4.2-py3-none-any.whl.metadata (17 kB)\n",
      "Requirement already satisfied: typing-extensions in c:\\users\\lenovo\\anaconda3\\lib\\site-packages (from qrcode) (4.7.1)\n",
      "Collecting pypng (from qrcode)\n",
      "  Obtaining dependency information for pypng from https://files.pythonhosted.org/packages/3e/b9/3766cc361d93edb2ce81e2e1f87dd98f314d7d513877a342d31b30741680/pypng-0.20220715.0-py3-none-any.whl.metadata\n",
      "  Downloading pypng-0.20220715.0-py3-none-any.whl.metadata (13 kB)\n",
      "Requirement already satisfied: colorama in c:\\users\\lenovo\\anaconda3\\lib\\site-packages (from qrcode) (0.4.6)\n",
      "Downloading qrcode-7.4.2-py3-none-any.whl (46 kB)\n",
      "   ---------------------------------------- 0.0/46.2 kB ? eta -:--:--\n",
      "   ---------------------------------------- 46.2/46.2 kB 2.2 MB/s eta 0:00:00\n",
      "Downloading pypng-0.20220715.0-py3-none-any.whl (58 kB)\n",
      "   ---------------------------------------- 0.0/58.1 kB ? eta -:--:--\n",
      "   ---------------------------------------- 58.1/58.1 kB ? eta 0:00:00\n",
      "Installing collected packages: pypng, qrcode\n",
      "Successfully installed pypng-0.20220715.0 qrcode-7.4.2\n"
     ]
    }
   ],
   "source": [
    "! pip install qrcode"
   ]
  },
  {
   "cell_type": "code",
   "execution_count": 3,
   "id": "6276df3a-0186-4813-a8c0-05902199b2ec",
   "metadata": {},
   "outputs": [],
   "source": [
    "import qrcode"
   ]
  },
  {
   "cell_type": "code",
   "execution_count": null,
   "id": "a2d842ad-509e-47b5-abc7-d6cc8e8c1096",
   "metadata": {},
   "outputs": [],
   "source": []
  }
 ],
 "metadata": {
  "kernelspec": {
   "display_name": "Python 3 (ipykernel)",
   "language": "python",
   "name": "python3"
  },
  "language_info": {
   "codemirror_mode": {
    "name": "ipython",
    "version": 3
   },
   "file_extension": ".py",
   "mimetype": "text/x-python",
   "name": "python",
   "nbconvert_exporter": "python",
   "pygments_lexer": "ipython3",
   "version": "3.11.5"
  }
 },
 "nbformat": 4,
 "nbformat_minor": 5
}
