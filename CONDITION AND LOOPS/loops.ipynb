{
 "cells": [
  {
   "cell_type": "code",
   "execution_count": 10,
   "id": "7a9b34bb-c88e-42a7-bd4d-62b5cf90bdd2",
   "metadata": {},
   "outputs": [
    {
     "name": "stdout",
     "output_type": "stream",
     "text": [
      "0\n",
      "1\n",
      "2\n",
      "3\n",
      "4\n",
      "5\n",
      "6\n",
      "7\n",
      "8\n",
      "9\n"
     ]
    }
   ],
   "source": [
    "#For loops in python \n",
    "for i in range(10):\n",
    "    print(i)"
   ]
  },
  {
   "cell_type": "code",
   "execution_count": 11,
   "id": "39625f39-20b9-4ce8-8368-3250e992128b",
   "metadata": {},
   "outputs": [
    {
     "name": "stdout",
     "output_type": "stream",
     "text": [
      "0.0\n",
      "0.5\n",
      "1.0\n",
      "1.5\n",
      "2.0\n",
      "2.5\n",
      "3.0\n",
      "3.5\n",
      "4.0\n",
      "4.5\n",
      "5.0\n",
      "5.5\n"
     ]
    }
   ],
   "source": [
    "for i in range(12):\n",
    "    print(i/2)"
   ]
  },
  {
   "cell_type": "code",
   "execution_count": 13,
   "id": "9b35c9ae-baed-42de-bc3f-66e724f641d8",
   "metadata": {},
   "outputs": [
    {
     "name": "stdin",
     "output_type": "stream",
     "text": [
      "Enter the number :  6\n"
     ]
    },
    {
     "name": "stdout",
     "output_type": "stream",
     "text": [
      "6 * 0 = 0\n",
      "6 * 1 = 6\n",
      "6 * 2 = 12\n",
      "6 * 3 = 18\n",
      "6 * 4 = 24\n",
      "6 * 5 = 30\n",
      "6 * 6 = 36\n",
      "6 * 7 = 42\n",
      "6 * 8 = 48\n",
      "6 * 9 = 54\n",
      "6 * 10 = 60\n"
     ]
    }
   ],
   "source": [
    "n = int(input(\"Enter the number : \"))\n",
    "for i in range(11):\n",
    "    print( n , \"*\", i,  \"=\", i*n)"
   ]
  },
  {
   "cell_type": "code",
   "execution_count": 15,
   "id": "d14723c3-4028-4145-b2c0-1fe7c167c7c1",
   "metadata": {},
   "outputs": [
    {
     "name": "stdin",
     "output_type": "stream",
     "text": [
      "Enter the number:  69\n"
     ]
    },
    {
     "name": "stdout",
     "output_type": "stream",
     "text": [
      "69 * 1 = 69\n",
      "69 * 2 = 138\n",
      "69 * 3 = 207\n",
      "69 * 4 = 276\n",
      "69 * 5 = 345\n",
      "69 * 6 = 414\n",
      "69 * 7 = 483\n",
      "69 * 8 = 552\n",
      "69 * 9 = 621\n",
      "69 * 10 = 690\n"
     ]
    }
   ],
   "source": [
    "#Starting table from 1\n",
    "n = int(input(\"Enter the number: \"))\n",
    "for i in range(1,11):\n",
    "    print(n, \"*\", i, \"=\", i*n)"
   ]
  },
  {
   "cell_type": "code",
   "execution_count": 19,
   "id": "99ea4081-e60f-48a4-a649-8c2200b2b0ea",
   "metadata": {},
   "outputs": [
    {
     "name": "stdin",
     "output_type": "stream",
     "text": [
      "Enter the number: 9\n"
     ]
    },
    {
     "name": "stdout",
     "output_type": "stream",
     "text": [
      "9 * 1 = 9\n",
      "9 * 4 = 36\n",
      "9 * 7 = 63\n",
      "9 * 10 = 90\n",
      "9 * 13 = 117\n",
      "9 * 16 = 144\n",
      "9 * 19 = 171\n",
      "9 * 22 = 198\n",
      "9 * 25 = 225\n",
      "9 * 28 = 252\n",
      "9 * 31 = 279\n"
     ]
    }
   ],
   "source": [
    "n = int(input(\"Enter the number:\"))\n",
    "for i in range(1,33,3):\n",
    "    print(n, \"*\", i, '=', i*n)"
   ]
  },
  {
   "cell_type": "code",
   "execution_count": 20,
   "id": "c721c330-15e0-4543-b4fc-6748bd00d953",
   "metadata": {},
   "outputs": [
    {
     "name": "stdout",
     "output_type": "stream",
     "text": [
      "1 3 5 7 9 11 13 15 17 19 "
     ]
    }
   ],
   "source": [
    "#print odd number in python till 20\n",
    "for i in range(1,21,2):\n",
    "    print(i, end= \" \")"
   ]
  },
  {
   "cell_type": "code",
   "execution_count": 22,
   "id": "07b0313d-c6a9-48c4-84e6-b927d7e14ca5",
   "metadata": {},
   "outputs": [
    {
     "name": "stdout",
     "output_type": "stream",
     "text": [
      "2 4 6 8 10 12 14 16 18 20 "
     ]
    }
   ],
   "source": [
    "#program to print even number till 20\n",
    "for  i in range(2,21,2):\n",
    "    print(i, end = \" \")"
   ]
  },
  {
   "cell_type": "code",
   "execution_count": 24,
   "id": "8b797e1d-6aa1-47e0-817b-01ca3d6c3b6a",
   "metadata": {},
   "outputs": [
    {
     "name": "stdout",
     "output_type": "stream",
     "text": [
      "2\n",
      "5\n",
      "8\n",
      "11\n",
      "14\n",
      "17\n",
      "20\n"
     ]
    }
   ],
   "source": [
    "for i in range(2,23,3):\n",
    "    print(i)"
   ]
  },
  {
   "cell_type": "code",
   "execution_count": 29,
   "id": "542c3ff4-d31f-4337-bf76-f6b183dc97c9",
   "metadata": {},
   "outputs": [
    {
     "name": "stdout",
     "output_type": "stream",
     "text": [
      "2\n",
      "3\n",
      "4\n",
      "5\n",
      "6\n",
      "7\n",
      "8\n",
      "9\n",
      "10\n",
      "11\n"
     ]
    }
   ],
   "source": [
    "for i in range(2,15):\n",
    "    print(i)\n",
    "    if i >10:\n",
    "        break"
   ]
  },
  {
   "cell_type": "code",
   "execution_count": 30,
   "id": "3c6db268-c270-4310-9324-85930f7ac9d9",
   "metadata": {},
   "outputs": [
    {
     "name": "stdout",
     "output_type": "stream",
     "text": [
      "0\n",
      "1\n",
      "2\n",
      "3\n",
      "4\n",
      "Work is finally finished\n"
     ]
    }
   ],
   "source": [
    "for i in range(5):\n",
    "    print(i)\n",
    "else:\n",
    "    print(\"Work is finally finished\")"
   ]
  },
  {
   "cell_type": "code",
   "execution_count": 33,
   "id": "58343d02-2fab-4777-a98b-fc68632af42f",
   "metadata": {},
   "outputs": [
    {
     "name": "stdout",
     "output_type": "stream",
     "text": [
      "1\n",
      "3\n",
      "4\n"
     ]
    }
   ],
   "source": [
    "for i in [1,3,4,5]:\n",
    "    print(i)\n",
    "    if i >3:\n",
    "        break"
   ]
  },
  {
   "cell_type": "code",
   "execution_count": 35,
   "id": "bdd7b690-30ef-4083-af95-9993ac35cdfe",
   "metadata": {},
   "outputs": [
    {
     "name": "stdout",
     "output_type": "stream",
     "text": [
      "1\n",
      "2\n",
      "42\n",
      "5\n",
      "3\n",
      "52\n"
     ]
    }
   ],
   "source": [
    "for i in (1,2,42,5,3,52,6,7,8,):\n",
    "    print(i)\n",
    "    if i > 50:\n",
    "        break"
   ]
  },
  {
   "cell_type": "code",
   "execution_count": 36,
   "id": "03e18abd-87d7-4d16-8354-112fb9f575b2",
   "metadata": {},
   "outputs": [
    {
     "name": "stdout",
     "output_type": "stream",
     "text": [
      "1 2\n",
      "1 3\n",
      "1 4\n",
      "1 5\n",
      "1 6\n",
      "2 2\n",
      "2 3\n",
      "2 4\n",
      "2 5\n",
      "2 6\n",
      "3 2\n",
      "3 3\n",
      "3 4\n",
      "3 5\n",
      "3 6\n",
      "4 2\n",
      "4 3\n",
      "4 4\n",
      "4 5\n",
      "4 6\n",
      "5 2\n",
      "5 3\n",
      "5 4\n",
      "5 5\n",
      "5 6\n"
     ]
    }
   ],
   "source": [
    "for i in range(1,6):\n",
    "    for j in range(2,7):\n",
    "        print(i,j)"
   ]
  },
  {
   "cell_type": "code",
   "execution_count": 38,
   "id": "261a8713-6171-4794-be7b-d4cb164be246",
   "metadata": {},
   "outputs": [
    {
     "name": "stdout",
     "output_type": "stream",
     "text": [
      "2 2\n",
      "2 3\n",
      "3 2\n",
      "3 3\n"
     ]
    }
   ],
   "source": [
    "\n",
    "for i in range(2,4):\n",
    "    for j in range(2,4):\n",
    "        print(i,j)\n",
    "        \n",
    "    \n",
    "    "
   ]
  },
  {
   "cell_type": "code",
   "execution_count": 39,
   "id": "aebd9edf-5176-4020-8d95-de17d976b850",
   "metadata": {},
   "outputs": [
    {
     "name": "stdout",
     "output_type": "stream",
     "text": [
      "1 2\n",
      "----\n",
      "1 3\n",
      "----\n",
      "2 2\n",
      "----\n",
      "2 3\n",
      "----\n"
     ]
    }
   ],
   "source": [
    "for i in range(1,3):\n",
    "    for j in range(2,4):\n",
    "        print(i,j)\n",
    "        print('----')"
   ]
  },
  {
   "cell_type": "code",
   "execution_count": 49,
   "id": "9102390d-d61c-4204-9654-2525bedc9e89",
   "metadata": {},
   "outputs": [
    {
     "name": "stdout",
     "output_type": "stream",
     "text": [
      "1 1\n",
      "1 2\n",
      "1 3\n",
      "2 1\n",
      "2 2\n",
      "2 3\n",
      "3 1\n",
      "3 2\n"
     ]
    }
   ],
   "source": [
    "for i in range(1,4):\n",
    "    for j in range(1,4):\n",
    "        print(i,j)\n",
    "        if (i+j)>=5:\n",
    "            break"
   ]
  },
  {
   "cell_type": "code",
   "execution_count": 55,
   "id": "696724ae-4292-48ad-84b3-1b69b67b279c",
   "metadata": {},
   "outputs": [
    {
     "name": "stdout",
     "output_type": "stream",
     "text": [
      "1 1\n",
      "1 2\n",
      "1 3\n",
      "1 4\n",
      "2 1\n",
      "2 2\n",
      "2 3\n",
      "2 4\n",
      "3 1\n",
      "3 2\n",
      "3 3\n",
      "4 1\n",
      "4 2\n"
     ]
    }
   ],
   "source": [
    "for i in range(1,5):\n",
    "    for j in range(1,5):\n",
    "        if (i+j <=6):\n",
    "            print(i,j)"
   ]
  },
  {
   "cell_type": "code",
   "execution_count": null,
   "id": "d4ae2dd0-0e04-466b-a108-907f3c252024",
   "metadata": {},
   "outputs": [],
   "source": []
  }
 ],
 "metadata": {
  "kernelspec": {
   "display_name": "Python 3 (ipykernel)",
   "language": "python",
   "name": "python3"
  },
  "language_info": {
   "codemirror_mode": {
    "name": "ipython",
    "version": 3
   },
   "file_extension": ".py",
   "mimetype": "text/x-python",
   "name": "python",
   "nbconvert_exporter": "python",
   "pygments_lexer": "ipython3",
   "version": "3.11.5"
  }
 },
 "nbformat": 4,
 "nbformat_minor": 5
}
