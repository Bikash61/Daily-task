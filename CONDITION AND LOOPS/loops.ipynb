{
 "cells": [
  {
   "cell_type": "code",
   "execution_count": 10,
   "id": "7a9b34bb-c88e-42a7-bd4d-62b5cf90bdd2",
   "metadata": {},
   "outputs": [
    {
     "name": "stdout",
     "output_type": "stream",
     "text": [
      "0\n",
      "1\n",
      "2\n",
      "3\n",
      "4\n",
      "5\n",
      "6\n",
      "7\n",
      "8\n",
      "9\n"
     ]
    }
   ],
   "source": [
    "#For loops in python \n",
    "for i in range(10):\n",
    "    print(i)"
   ]
  },
  {
   "cell_type": "code",
   "execution_count": 11,
   "id": "39625f39-20b9-4ce8-8368-3250e992128b",
   "metadata": {},
   "outputs": [
    {
     "name": "stdout",
     "output_type": "stream",
     "text": [
      "0.0\n",
      "0.5\n",
      "1.0\n",
      "1.5\n",
      "2.0\n",
      "2.5\n",
      "3.0\n",
      "3.5\n",
      "4.0\n",
      "4.5\n",
      "5.0\n",
      "5.5\n"
     ]
    }
   ],
   "source": [
    "for i in range(12):\n",
    "    print(i/2)"
   ]
  },
  {
   "cell_type": "code",
   "execution_count": 13,
   "id": "9b35c9ae-baed-42de-bc3f-66e724f641d8",
   "metadata": {},
   "outputs": [
    {
     "name": "stdout",
     "output_type": "stream",
     "text": [
      "Enter the number :  6\n"
     ]
    },
    {
     "name": "stdout",
     "output_type": "stream",
     "text": [
      "6 * 0 = 0\n",
      "6 * 1 = 6\n",
      "6 * 2 = 12\n",
      "6 * 3 = 18\n",
      "6 * 4 = 24\n",
      "6 * 5 = 30\n",
      "6 * 6 = 36\n",
      "6 * 7 = 42\n",
      "6 * 8 = 48\n",
      "6 * 9 = 54\n",
      "6 * 10 = 60\n"
     ]
    }
   ],
   "source": [
    "n = int(input(\"Enter the number : \"))\n",
    "for i in range(11):\n",
    "    print( n , \"*\", i,  \"=\", i*n)"
   ]
  },
  {
   "cell_type": "code",
   "execution_count": 15,
   "id": "d14723c3-4028-4145-b2c0-1fe7c167c7c1",
   "metadata": {},
   "outputs": [
    {
     "name": "stdout",
     "output_type": "stream",
     "text": [
      "Enter the number:  69\n"
     ]
    },
    {
     "name": "stdout",
     "output_type": "stream",
     "text": [
      "69 * 1 = 69\n",
      "69 * 2 = 138\n",
      "69 * 3 = 207\n",
      "69 * 4 = 276\n",
      "69 * 5 = 345\n",
      "69 * 6 = 414\n",
      "69 * 7 = 483\n",
      "69 * 8 = 552\n",
      "69 * 9 = 621\n",
      "69 * 10 = 690\n"
     ]
    }
   ],
   "source": [
    "#Starting table from 1\n",
    "n = int(input(\"Enter the number: \"))\n",
    "for i in range(1,11):\n",
    "    print(n, \"*\", i, \"=\", i*n)"
   ]
  },
  {
   "cell_type": "code",
   "execution_count": 19,
   "id": "99ea4081-e60f-48a4-a649-8c2200b2b0ea",
   "metadata": {},
   "outputs": [
    {
     "name": "stdout",
     "output_type": "stream",
     "text": [
      "Enter the number: 9\n"
     ]
    },
    {
     "name": "stdout",
     "output_type": "stream",
     "text": [
      "9 * 1 = 9\n",
      "9 * 4 = 36\n",
      "9 * 7 = 63\n",
      "9 * 10 = 90\n",
      "9 * 13 = 117\n",
      "9 * 16 = 144\n",
      "9 * 19 = 171\n",
      "9 * 22 = 198\n",
      "9 * 25 = 225\n",
      "9 * 28 = 252\n",
      "9 * 31 = 279\n"
     ]
    }
   ],
   "source": [
    "n = int(input(\"Enter the number:\"))\n",
    "for i in range(1,33,3):\n",
    "    print(n, \"*\", i, '=', i*n)"
   ]
  },
  {
   "cell_type": "code",
   "execution_count": 20,
   "id": "c721c330-15e0-4543-b4fc-6748bd00d953",
   "metadata": {},
   "outputs": [
    {
     "name": "stdout",
     "output_type": "stream",
     "text": [
      "1 3 5 7 9 11 13 15 17 19 "
     ]
    }
   ],
   "source": [
    "#print odd number in python till 20\n",
    "for i in range(1,21,2):\n",
    "    print(i, end= \" \")"
   ]
  },
  {
   "cell_type": "code",
   "execution_count": 22,
   "id": "07b0313d-c6a9-48c4-84e6-b927d7e14ca5",
   "metadata": {},
   "outputs": [
    {
     "name": "stdout",
     "output_type": "stream",
     "text": [
      "2 4 6 8 10 12 14 16 18 20 "
     ]
    }
   ],
   "source": [
    "#program to print even number till 20\n",
    "for  i in range(2,21,2):\n",
    "    print(i, end = \" \")"
   ]
  },
  {
   "cell_type": "code",
   "execution_count": 24,
   "id": "8b797e1d-6aa1-47e0-817b-01ca3d6c3b6a",
   "metadata": {},
   "outputs": [
    {
     "name": "stdout",
     "output_type": "stream",
     "text": [
      "2\n",
      "5\n",
      "8\n",
      "11\n",
      "14\n",
      "17\n",
      "20\n"
     ]
    }
   ],
   "source": [
    "for i in range(2,23,3):\n",
    "    print(i)"
   ]
  },
  {
   "cell_type": "code",
   "execution_count": 29,
   "id": "542c3ff4-d31f-4337-bf76-f6b183dc97c9",
   "metadata": {},
   "outputs": [
    {
     "name": "stdout",
     "output_type": "stream",
     "text": [
      "2\n",
      "3\n",
      "4\n",
      "5\n",
      "6\n",
      "7\n",
      "8\n",
      "9\n",
      "10\n",
      "11\n"
     ]
    }
   ],
   "source": [
    "for i in range(2,15):\n",
    "    print(i)\n",
    "    if i >10:\n",
    "        break"
   ]
  },
  {
   "cell_type": "code",
   "execution_count": 30,
   "id": "3c6db268-c270-4310-9324-85930f7ac9d9",
   "metadata": {},
   "outputs": [
    {
     "name": "stdout",
     "output_type": "stream",
     "text": [
      "0\n",
      "1\n",
      "2\n",
      "3\n",
      "4\n",
      "Work is finally finished\n"
     ]
    }
   ],
   "source": [
    "for i in range(5):\n",
    "    print(i)\n",
    "else:\n",
    "    print(\"Work is finally finished\")"
   ]
  },
  {
   "cell_type": "code",
   "execution_count": 33,
   "id": "58343d02-2fab-4777-a98b-fc68632af42f",
   "metadata": {},
   "outputs": [
    {
     "name": "stdout",
     "output_type": "stream",
     "text": [
      "1\n",
      "3\n",
      "4\n"
     ]
    }
   ],
   "source": [
    "for i in [1,3,4,5]:\n",
    "    print(i)\n",
    "    if i >3:\n",
    "        break"
   ]
  },
  {
   "cell_type": "code",
   "execution_count": 35,
   "id": "bdd7b690-30ef-4083-af95-9993ac35cdfe",
   "metadata": {},
   "outputs": [
    {
     "name": "stdout",
     "output_type": "stream",
     "text": [
      "1\n",
      "2\n",
      "42\n",
      "5\n",
      "3\n",
      "52\n"
     ]
    }
   ],
   "source": [
    "for i in (1,2,42,5,3,52,6,7,8,):\n",
    "    print(i)\n",
    "    if i > 50:\n",
    "        break"
   ]
  },
  {
   "cell_type": "code",
   "execution_count": 36,
   "id": "03e18abd-87d7-4d16-8354-112fb9f575b2",
   "metadata": {},
   "outputs": [
    {
     "name": "stdout",
     "output_type": "stream",
     "text": [
      "1 2\n",
      "1 3\n",
      "1 4\n",
      "1 5\n",
      "1 6\n",
      "2 2\n",
      "2 3\n",
      "2 4\n",
      "2 5\n",
      "2 6\n",
      "3 2\n",
      "3 3\n",
      "3 4\n",
      "3 5\n",
      "3 6\n",
      "4 2\n",
      "4 3\n",
      "4 4\n",
      "4 5\n",
      "4 6\n",
      "5 2\n",
      "5 3\n",
      "5 4\n",
      "5 5\n",
      "5 6\n"
     ]
    }
   ],
   "source": [
    "for i in range(1,6):\n",
    "    for j in range(2,7):\n",
    "        print(i,j)"
   ]
  },
  {
   "cell_type": "code",
   "execution_count": 38,
   "id": "261a8713-6171-4794-be7b-d4cb164be246",
   "metadata": {},
   "outputs": [
    {
     "name": "stdout",
     "output_type": "stream",
     "text": [
      "2 2\n",
      "2 3\n",
      "3 2\n",
      "3 3\n"
     ]
    }
   ],
   "source": [
    "\n",
    "for i in range(2,4):\n",
    "    for j in range(2,4):\n",
    "        print(i,j)\n",
    "        \n",
    "    \n",
    "    "
   ]
  },
  {
   "cell_type": "code",
   "execution_count": 39,
   "id": "aebd9edf-5176-4020-8d95-de17d976b850",
   "metadata": {},
   "outputs": [
    {
     "name": "stdout",
     "output_type": "stream",
     "text": [
      "1 2\n",
      "----\n",
      "1 3\n",
      "----\n",
      "2 2\n",
      "----\n",
      "2 3\n",
      "----\n"
     ]
    }
   ],
   "source": [
    "for i in range(1,3):\n",
    "    for j in range(2,4):\n",
    "        print(i,j)\n",
    "        print('----')"
   ]
  },
  {
   "cell_type": "code",
   "execution_count": 49,
   "id": "9102390d-d61c-4204-9654-2525bedc9e89",
   "metadata": {},
   "outputs": [
    {
     "name": "stdout",
     "output_type": "stream",
     "text": [
      "1 1\n",
      "1 2\n",
      "1 3\n",
      "2 1\n",
      "2 2\n",
      "2 3\n",
      "3 1\n",
      "3 2\n"
     ]
    }
   ],
   "source": [
    "for i in range(1,4):\n",
    "    for j in range(1,4):\n",
    "        print(i,j)\n",
    "        if (i+j)>=5:\n",
    "            break"
   ]
  },
  {
   "cell_type": "code",
   "execution_count": 55,
   "id": "696724ae-4292-48ad-84b3-1b69b67b279c",
   "metadata": {},
   "outputs": [
    {
     "name": "stdout",
     "output_type": "stream",
     "text": [
      "1 1\n",
      "1 2\n",
      "1 3\n",
      "1 4\n",
      "2 1\n",
      "2 2\n",
      "2 3\n",
      "2 4\n",
      "3 1\n",
      "3 2\n",
      "3 3\n",
      "4 1\n",
      "4 2\n"
     ]
    }
   ],
   "source": [
    "for i in range(1,5):\n",
    "    for j in range(1,5):\n",
    "        if (i+j <=6):\n",
    "            print(i,j)"
   ]
  },
  {
   "cell_type": "code",
   "execution_count": 2,
   "id": "d4ae2dd0-0e04-466b-a108-907f3c252024",
   "metadata": {},
   "outputs": [
    {
     "name": "stdout",
     "output_type": "stream",
     "text": [
      "30\n"
     ]
    }
   ],
   "source": [
    "a = 30;\n",
    "b = 60;\n",
    "while(a<b):\n",
    "    print(a)\n",
    "    break"
   ]
  },
  {
   "cell_type": "code",
   "execution_count": 7,
   "id": "07b51066-ea95-47b0-911c-485b10f634f6",
   "metadata": {},
   "outputs": [
    {
     "name": "stdout",
     "output_type": "stream",
     "text": [
      "1\n",
      "3\n",
      "6\n",
      "10\n",
      "15\n",
      "21\n",
      "28\n"
     ]
    }
   ],
   "source": [
    "i = 1\n",
    "n = 30 \n",
    "s = 1\n",
    "while(n>s):\n",
    "    print(s)\n",
    "    \n",
    "    i+=1\n",
    "    s+=i\n",
    "    \n",
    "    "
   ]
  },
  {
   "cell_type": "code",
   "execution_count": 3,
   "id": "29634aaa-8981-4327-ad8b-11d6e876923d",
   "metadata": {},
   "outputs": [
    {
     "name": "stdout",
     "output_type": "stream",
     "text": [
      "1\n",
      "2\n",
      "3\n",
      "4\n",
      "5\n",
      "6\n",
      "7\n",
      "8\n",
      "9\n"
     ]
    }
   ],
   "source": [
    "i = 1\n",
    "while( i<10):\n",
    "    print(i)\n",
    "    i+=1"
   ]
  },
  {
   "cell_type": "code",
   "execution_count": 1,
   "id": "6b7d3f55-8fc0-4866-a24f-5c640097b422",
   "metadata": {},
   "outputs": [
    {
     "name": "stdout",
     "output_type": "stream",
     "text": [
      "Hello World\n"
     ]
    }
   ],
   "source": [
    "while()"
   ]
  },
  {
   "cell_type": "code",
   "execution_count": 5,
   "id": "5ef44666-edb8-406d-ae19-9d41d7f76401",
   "metadata": {},
   "outputs": [
    {
     "name": "stdin",
     "output_type": "stream",
     "text": [
      "Enter the marks of sciecne 35\n",
      "Enter the marks of math 32\n",
      "Enter the marks of social 45\n",
      "Enter the marks of java 48\n",
      "Enter the marks of dsa 44\n"
     ]
    },
    {
     "name": "stdout",
     "output_type": "stream",
     "text": [
      "Your total percentage is 81.6 %\n"
     ]
    }
   ],
   "source": [
    "science = int(input(\"Enter the marks of sciecne\"))\n",
    "math = int(input(\"Enter the marks of math\"))\n",
    "social = int (input (\"Enter the marks of social\"))\n",
    "java = int (input (\"Enter the marks of java\"))\n",
    "dsa = int(input(\"Enter the marks of dsa\"))\n",
    "\n",
    "total = science + math + social + java + dsa \n",
    "total_percentage = (total /250) * 100\n",
    "print( \"Your total percentage is\", total_percentage,\"%\")"
   ]
  },
  {
   "cell_type": "code",
   "execution_count": 7,
   "id": "22e2be0d-3818-4c61-84be-e347cb1d0489",
   "metadata": {},
   "outputs": [
    {
     "name": "stdin",
     "output_type": "stream",
     "text": [
      "Enter the radius of a circle 1\n"
     ]
    },
    {
     "name": "stdout",
     "output_type": "stream",
     "text": [
      "Circumference is greater than Area\n"
     ]
    }
   ],
   "source": [
    "import math\n",
    "radius = int(input(\"Enter the radius of a circle\"))\n",
    "area = math.pi * radius **2\n",
    "circum = math.pi * 2*radius \n",
    "\n",
    "if (area>circum):\n",
    "    print(\"Area is greater than Circumference\")\n",
    "else:\n",
    "    print(\"Circumference is greater than Area\")"
   ]
  },
  {
   "cell_type": "code",
   "execution_count": 10,
   "id": "1c89894c-58aa-4b41-9ebd-3f2a462c65f2",
   "metadata": {},
   "outputs": [
    {
     "name": "stdin",
     "output_type": "stream",
     "text": [
      "Enter the year  2003\n"
     ]
    },
    {
     "name": "stdout",
     "output_type": "stream",
     "text": [
      "It is not a leap year\n"
     ]
    }
   ],
   "source": [
    "year = int(input(\"Enter the year \"))\n",
    "leap = year % 4 \n",
    "if (leap == 0):\n",
    "    print(\"It is a leap year\")\n",
    "else:\n",
    "    print(\"It is not a leap year\")"
   ]
  },
  {
   "cell_type": "code",
   "execution_count": 14,
   "id": "14636d6a-6403-4efc-84ae-41f9b4cef6a4",
   "metadata": {},
   "outputs": [
    {
     "name": "stdin",
     "output_type": "stream",
     "text": [
      "Enter the principle 10000\n",
      "Enter the time in year 1\n",
      "Enter the rate of intrest 12\n"
     ]
    },
    {
     "name": "stdout",
     "output_type": "stream",
     "text": [
      "1200.0\n"
     ]
    }
   ],
   "source": [
    "principal = float(input(\"Enter the principle\"))\n",
    "time = float(input(\"Enter the time in year\"))\n",
    "rate = float(input(\"Enter the rate of intrest\"))\n",
    "\n",
    "si = (principal*time*rate)/100\n",
    "print(si)"
   ]
  },
  {
   "cell_type": "code",
   "execution_count": 18,
   "id": "c77f0c94-fc57-444a-b74a-9f4f9b02cda0",
   "metadata": {},
   "outputs": [
    {
     "name": "stdin",
     "output_type": "stream",
     "text": [
      "Enter the number 08\n"
     ]
    },
    {
     "name": "stdout",
     "output_type": "stream",
     "text": [
      "It is an even number\n"
     ]
    }
   ],
   "source": [
    "#Take the positive integer as an input and tell wheather it in odd or even \n",
    "num = int(input('Enter the number'))\n",
    "\n",
    "if (num > 0):\n",
    "    if ((num %2)== 0):\n",
    "        print(\"It is an even number\")\n",
    "    else:\n",
    "        print(\"It is an odd number\")\n",
    "else:\n",
    "    print(\"It is an invalid number\")"
   ]
  },
  {
   "cell_type": "code",
   "execution_count": 32,
   "id": "7c05b98f-51b8-44f6-b1ec-49e9acf8b32c",
   "metadata": {},
   "outputs": [
    {
     "name": "stdin",
     "output_type": "stream",
     "text": [
      "Enter the number: 50\n"
     ]
    },
    {
     "name": "stdout",
     "output_type": "stream",
     "text": [
      "It is divisible by 5\n"
     ]
    }
   ],
   "source": [
    "#Take a positive and tell wheather it is divisble by 5 or not \n",
    "\n",
    "number = int(input('Enter the number:'))\n",
    "\n",
    "if (number >0):\n",
    "    if ((number % 5)== 0):\n",
    "        print(\"It is divisible by 5\")\n",
    "    else:\n",
    "        print(\"It is not divisible by 5\")\n",
    "    \n",
    "else:\n",
    "    print(\"It is an invalid number to divide \")"
   ]
  },
  {
   "cell_type": "code",
   "execution_count": 35,
   "id": "30cd1749-c2f4-46bf-aa76-17a00fde5dbc",
   "metadata": {},
   "outputs": [
    {
     "name": "stdin",
     "output_type": "stream",
     "text": [
      "Enter the number:  5\n"
     ]
    },
    {
     "name": "stdout",
     "output_type": "stream",
     "text": [
      "5\n"
     ]
    }
   ],
   "source": [
    "#take a number from the user and write the absolute value \n",
    "numb = int(input(\"Enter the number: \"))\n",
    "if (numb > 0):\n",
    "    print(numb)\n",
    "else:\n",
    "    print(-numb)"
   ]
  },
  {
   "cell_type": "code",
   "execution_count": null,
   "id": "387fce13-e6bb-43bf-b6d7-3b5c77ecd126",
   "metadata": {},
   "outputs": [],
   "source": []
  }
 ],
 "metadata": {
  "kernelspec": {
   "display_name": "Python 3 (ipykernel)",
   "language": "python",
   "name": "python3"
  },
  "language_info": {
   "codemirror_mode": {
    "name": "ipython",
    "version": 3
   },
   "file_extension": ".py",
   "mimetype": "text/x-python",
   "name": "python",
   "nbconvert_exporter": "python",
   "pygments_lexer": "ipython3",
   "version": "3.11.5"
  }
 },
 "nbformat": 4,
 "nbformat_minor": 5
}
