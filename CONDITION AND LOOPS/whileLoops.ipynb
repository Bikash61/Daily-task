{
 "cells": [
  {
   "cell_type": "code",
   "execution_count": 7,
   "id": "7a9b34bb-c88e-42a7-bd4d-62b5cf90bdd2",
   "metadata": {},
   "outputs": [
    {
     "name": "stdout",
     "output_type": "stream",
     "text": [
      "0 2 4 6 8 10 12 14 16 18 20 "
     ]
    }
   ],
   "source": [
    "i = 0\n",
    "while i < 52:\n",
    "  print(i, end=\" \")\n",
    "  if i ==20:\n",
    "      break\n",
    "  i += 2"
   ]
  },
  {
   "cell_type": "code",
   "execution_count": null,
   "id": "39625f39-20b9-4ce8-8368-3250e992128b",
   "metadata": {},
   "outputs": [],
   "source": []
  }
 ],
 "metadata": {
  "kernelspec": {
   "display_name": "Python 3 (ipykernel)",
   "language": "python",
   "name": "python3"
  },
  "language_info": {
   "codemirror_mode": {
    "name": "ipython",
    "version": 3
   },
   "file_extension": ".py",
   "mimetype": "text/x-python",
   "name": "python",
   "nbconvert_exporter": "python",
   "pygments_lexer": "ipython3",
   "version": "3.11.5"
  }
 },
 "nbformat": 4,
 "nbformat_minor": 5
}
