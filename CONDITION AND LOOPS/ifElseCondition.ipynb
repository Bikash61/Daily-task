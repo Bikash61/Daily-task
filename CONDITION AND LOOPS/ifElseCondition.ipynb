{
 "cells": [
  {
   "cell_type": "code",
   "execution_count": 1,
   "id": "d66d6001-eb43-4126-b9bf-784545d06f5d",
   "metadata": {},
   "outputs": [
    {
     "name": "stdout",
     "output_type": "stream",
     "text": [
      "B is greater than A\n"
     ]
    }
   ],
   "source": [
    "a = 20\n",
    "b = 30\n",
    "if a>b:\n",
    "    print(\"A is greater than B\")\n",
    "else:\n",
    "    print(\"B is greater than A\")"
   ]
  },
  {
   "cell_type": "code",
   "execution_count": 2,
   "id": "143086c8-7e0d-446b-96d3-96623d27f921",
   "metadata": {},
   "outputs": [
    {
     "name": "stdin",
     "output_type": "stream",
     "text": [
      "Enter number a  52\n",
      "Enter number b  20\n"
     ]
    },
    {
     "name": "stdout",
     "output_type": "stream",
     "text": [
      "A is greater than B\n"
     ]
    }
   ],
   "source": [
    "a = input(\"Enter number a \")\n",
    "b = input(\"Enter number b \")\n",
    "if a >b:\n",
    "    print(\"A is greater than B\")\n",
    "else:\n",
    "    print(\"B is greater than A\")"
   ]
  },
  {
   "cell_type": "code",
   "execution_count": 4,
   "id": "1ca63770-5cab-49a1-bbff-5d2238fadc1d",
   "metadata": {},
   "outputs": [
    {
     "name": "stdin",
     "output_type": "stream",
     "text": [
      "Enrer number a  85\n",
      "Enter number b 85\n"
     ]
    },
    {
     "name": "stdout",
     "output_type": "stream",
     "text": [
      "A is equal to b\n"
     ]
    }
   ],
   "source": [
    "a = input(\"Enrer number a \")\n",
    "b = input(\"Enter number b\")\n",
    "if a>b:\n",
    "    print(\"A is greater thana B\")\n",
    "elif(a == b):\n",
    "    print(\"A is equal to b\")\n",
    "else:\n",
    "    print(\"B is greater than B\")"
   ]
  },
  {
   "cell_type": "code",
   "execution_count": 2,
   "id": "5361ecdc-7033-4ec8-822c-fc3bd5a6299d",
   "metadata": {},
   "outputs": [
    {
     "name": "stdin",
     "output_type": "stream",
     "text": [
      "Enter a number  -9\n"
     ]
    },
    {
     "name": "stdout",
     "output_type": "stream",
     "text": [
      "-9 is negative number \n"
     ]
    }
   ],
   "source": [
    "a = int(input(\"Enter a number \"))\n",
    "if(a>0):\n",
    "    print(a,\"is a positive number\")\n",
    "else:\n",
    "    print(a,\"is  a negative number \")"
   ]
  },
  {
   "cell_type": "code",
   "execution_count": null,
   "id": "3a9a6e12-1da3-4e05-b11a-2cd095d6258d",
   "metadata": {},
   "outputs": [],
   "source": []
  }
 ],
 "metadata": {
  "kernelspec": {
   "display_name": "Python 3 (ipykernel)",
   "language": "python",
   "name": "python3"
  },
  "language_info": {
   "codemirror_mode": {
    "name": "ipython",
    "version": 3
   },
   "file_extension": ".py",
   "mimetype": "text/x-python",
   "name": "python",
   "nbconvert_exporter": "python",
   "pygments_lexer": "ipython3",
   "version": "3.11.5"
  }
 },
 "nbformat": 4,
 "nbformat_minor": 5
}
