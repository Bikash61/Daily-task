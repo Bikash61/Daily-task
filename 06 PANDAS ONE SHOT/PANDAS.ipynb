{
 "cells": [
  {
   "cell_type": "markdown",
   "id": "d346749f-6899-432f-b1e4-34eb9460e6cd",
   "metadata": {},
   "source": [
    "## Working with Pandas"
   ]
  },
  {
   "cell_type": "markdown",
   "id": "f40ca92b-f65c-43b1-9f20-9bb8682836b5",
   "metadata": {},
   "source": [
    "## Creating a Series"
   ]
  },
  {
   "cell_type": "code",
   "execution_count": 7,
   "id": "473d912c-5276-495b-8611-31390aa08c03",
   "metadata": {},
   "outputs": [],
   "source": [
    "import pandas as pd\n",
    "import numpy as np"
   ]
  },
  {
   "cell_type": "code",
   "execution_count": 6,
   "id": "3fdab302-dfe8-40ac-a65e-ebffcceda980",
   "metadata": {},
   "outputs": [
    {
     "data": {
      "text/plain": [
       "0     1\n",
       "1     2\n",
       "2     3\n",
       "3     4\n",
       "4     5\n",
       "5    56\n",
       "6    67\n",
       "dtype: int64"
      ]
     },
     "execution_count": 6,
     "metadata": {},
     "output_type": "execute_result"
    }
   ],
   "source": [
    "#Series through list\n",
    "lst = [1,2,3,4,5,56,67]\n",
    "pd.Series(lst)"
   ]
  },
  {
   "cell_type": "code",
   "execution_count": 8,
   "id": "9200c236-3e2d-4079-9eec-876d4b6bfceb",
   "metadata": {},
   "outputs": [
    {
     "data": {
      "text/plain": [
       "0     1\n",
       "1     2\n",
       "2     3\n",
       "3     4\n",
       "4     5\n",
       "5     6\n",
       "6    78\n",
       "dtype: int32"
      ]
     },
     "execution_count": 8,
     "metadata": {},
     "output_type": "execute_result"
    }
   ],
   "source": [
    "#Series throug Numpy arry\n",
    "arr =np.array([1,2,3,4,5,6,78])\n",
    "pd.Series(arr)"
   ]
  },
  {
   "cell_type": "code",
   "execution_count": 10,
   "id": "bf7e43f7-635b-42d9-b9b1-dd2c6e07713c",
   "metadata": {},
   "outputs": [
    {
     "data": {
      "text/plain": [
       "1    Ishant\n",
       "4      Hari\n",
       "2       Ram\n",
       "dtype: object"
      ]
     },
     "execution_count": 10,
     "metadata": {},
     "output_type": "execute_result"
    }
   ],
   "source": [
    "#Giving Index from our own\n",
    "pd.Series(['Ishant','Hari','Ram'] ,index=[1,4,2])"
   ]
  },
  {
   "cell_type": "code",
   "execution_count": 11,
   "id": "0001c418-b567-44db-9e3b-c7c42b63124a",
   "metadata": {},
   "outputs": [
    {
     "data": {
      "text/plain": [
       "day1    1000\n",
       "day2     300\n",
       "day3     500\n",
       "dtype: int64"
      ]
     },
     "execution_count": 11,
     "metadata": {},
     "output_type": "execute_result"
    }
   ],
   "source": [
    "#Series through Dictionary Values\n",
    "steps = {'day1':1000,'day2':300,'day3':500}\n",
    "pd.Series(steps)"
   ]
  },
  {
   "cell_type": "code",
   "execution_count": 14,
   "id": "8dec6af5-f602-4c94-b602-8b9bba3e2ee4",
   "metadata": {},
   "outputs": [
    {
     "data": {
      "text/plain": [
       "0    5\n",
       "1    5\n",
       "2    5\n",
       "3    5\n",
       "dtype: int64"
      ]
     },
     "execution_count": 14,
     "metadata": {},
     "output_type": "execute_result"
    }
   ],
   "source": [
    "#Using Repeat Function\n",
    "pd.Series(5).repeat(4).reset_index(drop=True)"
   ]
  },
  {
   "cell_type": "code",
   "execution_count": 18,
   "id": "bbf39c0a-4cf8-4004-a250-f9b216a585f5",
   "metadata": {},
   "outputs": [
    {
     "data": {
      "text/plain": [
       "0    3\n",
       "1    3\n",
       "2    3\n",
       "3    3\n",
       "4    5\n",
       "5    5\n",
       "6    5\n",
       "7    5\n",
       "dtype: int64"
      ]
     },
     "execution_count": 18,
     "metadata": {},
     "output_type": "execute_result"
    }
   ],
   "source": [
    "pd.Series([3,5]).repeat([4,4]).reset_index(drop=True)"
   ]
  },
  {
   "cell_type": "markdown",
   "id": "d83618cd-48ff-4d27-a00d-b4c1adfeb07a",
   "metadata": {},
   "source": [
    "## Acessing Element"
   ]
  },
  {
   "cell_type": "code",
   "execution_count": null,
   "id": "b10463cf-c092-4f9c-a72c-442ce1164b45",
   "metadata": {},
   "outputs": [],
   "source": []
  }
 ],
 "metadata": {
  "kernelspec": {
   "display_name": "Python 3 (ipykernel)",
   "language": "python",
   "name": "python3"
  },
  "language_info": {
   "codemirror_mode": {
    "name": "ipython",
    "version": 3
   },
   "file_extension": ".py",
   "mimetype": "text/x-python",
   "name": "python",
   "nbconvert_exporter": "python",
   "pygments_lexer": "ipython3",
   "version": "3.11.5"
  }
 },
 "nbformat": 4,
 "nbformat_minor": 5
}
