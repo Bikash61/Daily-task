{
 "cells": [
  {
   "cell_type": "markdown",
   "id": "d346749f-6899-432f-b1e4-34eb9460e6cd",
   "metadata": {},
   "source": [
    "## Working with Pandas"
   ]
  },
  {
   "cell_type": "markdown",
   "id": "f40ca92b-f65c-43b1-9f20-9bb8682836b5",
   "metadata": {},
   "source": [
    "## Creating a Series"
   ]
  },
  {
   "cell_type": "code",
   "execution_count": 7,
   "id": "473d912c-5276-495b-8611-31390aa08c03",
   "metadata": {},
   "outputs": [],
   "source": [
    "import pandas as pd\n",
    "import numpy as np"
   ]
  },
  {
   "cell_type": "code",
   "execution_count": 6,
   "id": "3fdab302-dfe8-40ac-a65e-ebffcceda980",
   "metadata": {},
   "outputs": [
    {
     "data": {
      "text/plain": [
       "0     1\n",
       "1     2\n",
       "2     3\n",
       "3     4\n",
       "4     5\n",
       "5    56\n",
       "6    67\n",
       "dtype: int64"
      ]
     },
     "execution_count": 6,
     "metadata": {},
     "output_type": "execute_result"
    }
   ],
   "source": [
    "#Series through list\n",
    "lst = [1,2,3,4,5,56,67]\n",
    "pd.Series(lst)"
   ]
  },
  {
   "cell_type": "code",
   "execution_count": 8,
   "id": "9200c236-3e2d-4079-9eec-876d4b6bfceb",
   "metadata": {},
   "outputs": [
    {
     "data": {
      "text/plain": [
       "0     1\n",
       "1     2\n",
       "2     3\n",
       "3     4\n",
       "4     5\n",
       "5     6\n",
       "6    78\n",
       "dtype: int32"
      ]
     },
     "execution_count": 8,
     "metadata": {},
     "output_type": "execute_result"
    }
   ],
   "source": [
    "#Series throug Numpy arry\n",
    "arr =np.array([1,2,3,4,5,6,78])\n",
    "pd.Series(arr)"
   ]
  },
  {
   "cell_type": "code",
   "execution_count": 10,
   "id": "bf7e43f7-635b-42d9-b9b1-dd2c6e07713c",
   "metadata": {},
   "outputs": [
    {
     "data": {
      "text/plain": [
       "1    Ishant\n",
       "4      Hari\n",
       "2       Ram\n",
       "dtype: object"
      ]
     },
     "execution_count": 10,
     "metadata": {},
     "output_type": "execute_result"
    }
   ],
   "source": [
    "#Giving Index from our own\n",
    "pd.Series(['Ishant','Hari','Ram'] ,index=[1,4,2])"
   ]
  },
  {
   "cell_type": "code",
   "execution_count": 11,
   "id": "0001c418-b567-44db-9e3b-c7c42b63124a",
   "metadata": {},
   "outputs": [
    {
     "data": {
      "text/plain": [
       "day1    1000\n",
       "day2     300\n",
       "day3     500\n",
       "dtype: int64"
      ]
     },
     "execution_count": 11,
     "metadata": {},
     "output_type": "execute_result"
    }
   ],
   "source": [
    "#Series through Dictionary Values\n",
    "steps = {'day1':1000,'day2':300,'day3':500}\n",
    "pd.Series(steps)"
   ]
  },
  {
   "cell_type": "code",
   "execution_count": 14,
   "id": "8dec6af5-f602-4c94-b602-8b9bba3e2ee4",
   "metadata": {},
   "outputs": [
    {
     "data": {
      "text/plain": [
       "0    5\n",
       "1    5\n",
       "2    5\n",
       "3    5\n",
       "dtype: int64"
      ]
     },
     "execution_count": 14,
     "metadata": {},
     "output_type": "execute_result"
    }
   ],
   "source": [
    "#Using Repeat Function\n",
    "pd.Series(5).repeat(4).reset_index(drop=True)"
   ]
  },
  {
   "cell_type": "code",
   "execution_count": 18,
   "id": "bbf39c0a-4cf8-4004-a250-f9b216a585f5",
   "metadata": {},
   "outputs": [
    {
     "data": {
      "text/plain": [
       "0    3\n",
       "1    3\n",
       "2    3\n",
       "3    3\n",
       "4    5\n",
       "5    5\n",
       "6    5\n",
       "7    5\n",
       "dtype: int64"
      ]
     },
     "execution_count": 18,
     "metadata": {},
     "output_type": "execute_result"
    }
   ],
   "source": [
    "pd.Series([3,5]).repeat([4,4]).reset_index(drop=True)"
   ]
  },
  {
   "cell_type": "markdown",
   "id": "d83618cd-48ff-4d27-a00d-b4c1adfeb07a",
   "metadata": {},
   "source": [
    "## Acessing Element"
   ]
  },
  {
   "cell_type": "code",
   "execution_count": 21,
   "id": "b10463cf-c092-4f9c-a72c-442ce1164b45",
   "metadata": {},
   "outputs": [
    {
     "data": {
      "text/plain": [
       "6    -1\n",
       "7   -96\n",
       "dtype: int64"
      ]
     },
     "execution_count": 21,
     "metadata": {},
     "output_type": "execute_result"
    }
   ],
   "source": [
    "s = pd.Series([1,4,6,3,5,0,-1,-96])\n",
    "s[6:8]"
   ]
  },
  {
   "cell_type": "code",
   "execution_count": 22,
   "id": "48ddf726-e50d-48b7-8b89-3216f14d38f0",
   "metadata": {},
   "outputs": [
    {
     "data": {
      "text/plain": [
       "1    4\n",
       "2    6\n",
       "3    3\n",
       "4    5\n",
       "5    0\n",
       "6   -1\n",
       "dtype: int64"
      ]
     },
     "execution_count": 22,
     "metadata": {},
     "output_type": "execute_result"
    }
   ],
   "source": [
    "s[1:-1]"
   ]
  },
  {
   "cell_type": "code",
   "execution_count": 23,
   "id": "fa1404ab-9ec7-478c-8e15-b7abee8b38fb",
   "metadata": {},
   "outputs": [
    {
     "data": {
      "text/plain": [
       "1    4\n",
       "2    6\n",
       "3    3\n",
       "4    5\n",
       "5    0\n",
       "6   -1\n",
       "dtype: int64"
      ]
     },
     "execution_count": 23,
     "metadata": {},
     "output_type": "execute_result"
    }
   ],
   "source": [
    "s[-7:-1]"
   ]
  },
  {
   "cell_type": "markdown",
   "id": "2c8e1143-a5a3-432c-9bf8-c01f778bfa9e",
   "metadata": {},
   "source": [
    "## Aggregate Functions in Pandas"
   ]
  },
  {
   "cell_type": "code",
   "execution_count": 32,
   "id": "3c4ded48-5c79-44ca-a609-d7138e3bb461",
   "metadata": {},
   "outputs": [
    {
     "data": {
      "text/plain": [
       "min          1.000000\n",
       "max        231.000000\n",
       "sum        360.000000\n",
       "median      25.000000\n",
       "average     51.428571\n",
       "dtype: float64"
      ]
     },
     "execution_count": 32,
     "metadata": {},
     "output_type": "execute_result"
    }
   ],
   "source": [
    "sr = pd.Series([1,2,45,33,23,231,25])\n",
    "sr.agg(['min','max','sum','median','average'])"
   ]
  },
  {
   "cell_type": "markdown",
   "id": "b26f9c53-9b1c-4366-bd0b-d999e96d8df2",
   "metadata": {},
   "source": [
    "## Series Absolute Functions"
   ]
  },
  {
   "cell_type": "code",
   "execution_count": 36,
   "id": "e58ef5a5-a0b3-4483-aa30-6eb516e91845",
   "metadata": {},
   "outputs": [
    {
     "data": {
      "text/plain": [
       "0     1.0\n",
       "1     3.0\n",
       "2    33.0\n",
       "3     8.0\n",
       "4     9.0\n",
       "5    12.0\n",
       "6    13.0\n",
       "dtype: float64"
      ]
     },
     "execution_count": 36,
     "metadata": {},
     "output_type": "execute_result"
    }
   ],
   "source": [
    "sr1 = pd.Series([1,-3,33,-8,-9,12.0,13])\n",
    "sr1.abs()"
   ]
  },
  {
   "cell_type": "markdown",
   "id": "938479ba-d28b-4fad-a937-57ec7ba16c1d",
   "metadata": {},
   "source": [
    "## Appending Series"
   ]
  },
  {
   "cell_type": "code",
   "execution_count": 85,
   "id": "cc037e21-85ab-4cca-a901-8262039109d5",
   "metadata": {},
   "outputs": [
    {
     "data": {
      "text/plain": [
       "0     1\n",
       "1     3\n",
       "2     3\n",
       "3    34\n",
       "4    13\n",
       "5    24\n",
       "6    43\n",
       "7    44\n",
       "8    73\n",
       "0     1\n",
       "1     2\n",
       "2     5\n",
       "3    67\n",
       "4    98\n",
       "5     4\n",
       "6    83\n",
       "7    14\n",
       "8    83\n",
       "dtype: int64"
      ]
     },
     "execution_count": 85,
     "metadata": {},
     "output_type": "execute_result"
    }
   ],
   "source": [
    "sr1 = pd.Series([1,3,3,34,13,24,43,44,73])\n",
    "sr2 = pd.Series([1,2,5,67,98,4,83,14,83])\n",
    "\n",
    "pd.concat([sr1,sr2])"
   ]
  },
  {
   "cell_type": "code",
   "execution_count": 86,
   "id": "699e0e91-788a-4ff2-8c11-ef23a2503186",
   "metadata": {},
   "outputs": [
    {
     "data": {
      "text/plain": [
       "0      1\n",
       "1      3\n",
       "2      3\n",
       "3     34\n",
       "4     13\n",
       "5     24\n",
       "6     43\n",
       "7     44\n",
       "8     73\n",
       "9      1\n",
       "10     2\n",
       "11     5\n",
       "12    67\n",
       "13    98\n",
       "14     4\n",
       "15    83\n",
       "16    14\n",
       "17    83\n",
       "dtype: int64"
      ]
     },
     "execution_count": 86,
     "metadata": {},
     "output_type": "execute_result"
    }
   ],
   "source": [
    "sr1 = pd.Series([1,3,3,34,13,24,43,44,73])\n",
    "sr2 = pd.Series([1,2,5,67,98,4,83,14,83])\n",
    "\n",
    "pd.concat([sr1,sr2]).reset_index(drop=True)"
   ]
  },
  {
   "cell_type": "code",
   "execution_count": 90,
   "id": "eb693e13-d66e-4d4a-ae76-4c23184e2a5f",
   "metadata": {},
   "outputs": [],
   "source": [
    "sr3 = pd.concat([sr1,sr2]).reset_index(drop=True)"
   ]
  },
  {
   "cell_type": "markdown",
   "id": "44de71c3-cf25-4e2a-8b75-8f2c0faeb97a",
   "metadata": {},
   "source": [
    "## astype function"
   ]
  },
  {
   "cell_type": "code",
   "execution_count": 87,
   "id": "454a557f-f061-4fcc-bb8a-05435a9a0bd4",
   "metadata": {},
   "outputs": [
    {
     "data": {
      "text/plain": [
       "pandas.core.series.Series"
      ]
     },
     "execution_count": 87,
     "metadata": {},
     "output_type": "execute_result"
    }
   ],
   "source": [
    "type(sr1)"
   ]
  },
  {
   "cell_type": "code",
   "execution_count": 88,
   "id": "54ce1f65-00f9-429f-a9f0-0298f8e1646a",
   "metadata": {},
   "outputs": [
    {
     "data": {
      "text/plain": [
       "numpy.int64"
      ]
     },
     "execution_count": 88,
     "metadata": {},
     "output_type": "execute_result"
    }
   ],
   "source": [
    "type(sr[0])"
   ]
  },
  {
   "cell_type": "code",
   "execution_count": 89,
   "id": "d3548d9b-971e-4ba1-bffa-a43cd341acb1",
   "metadata": {},
   "outputs": [
    {
     "data": {
      "text/plain": [
       "0     1.0\n",
       "1     3.0\n",
       "2     3.0\n",
       "3    34.0\n",
       "4    13.0\n",
       "5    24.0\n",
       "6    43.0\n",
       "7    44.0\n",
       "8    73.0\n",
       "dtype: float64"
      ]
     },
     "execution_count": 89,
     "metadata": {},
     "output_type": "execute_result"
    }
   ],
   "source": [
    "sr1.astype('float')"
   ]
  },
  {
   "cell_type": "code",
   "execution_count": 91,
   "id": "48798699-acba-40a6-b46c-1c4a72286c89",
   "metadata": {},
   "outputs": [
    {
     "data": {
      "text/plain": [
       "0      1.0\n",
       "1      3.0\n",
       "2      3.0\n",
       "3     34.0\n",
       "4     13.0\n",
       "5     24.0\n",
       "6     43.0\n",
       "7     44.0\n",
       "8     73.0\n",
       "9      1.0\n",
       "10     2.0\n",
       "11     5.0\n",
       "12    67.0\n",
       "13    98.0\n",
       "14     4.0\n",
       "15    83.0\n",
       "16    14.0\n",
       "17    83.0\n",
       "dtype: float64"
      ]
     },
     "execution_count": 91,
     "metadata": {},
     "output_type": "execute_result"
    }
   ],
   "source": [
    "sr3.astype('float')"
   ]
  },
  {
   "cell_type": "code",
   "execution_count": null,
   "id": "b0e0b4e5-4328-4bb7-abcf-0087a171f1bb",
   "metadata": {},
   "outputs": [],
   "source": []
  }
 ],
 "metadata": {
  "kernelspec": {
   "display_name": "Python 3 (ipykernel)",
   "language": "python",
   "name": "python3"
  },
  "language_info": {
   "codemirror_mode": {
    "name": "ipython",
    "version": 3
   },
   "file_extension": ".py",
   "mimetype": "text/x-python",
   "name": "python",
   "nbconvert_exporter": "python",
   "pygments_lexer": "ipython3",
   "version": "3.11.5"
  }
 },
 "nbformat": 4,
 "nbformat_minor": 5
}
