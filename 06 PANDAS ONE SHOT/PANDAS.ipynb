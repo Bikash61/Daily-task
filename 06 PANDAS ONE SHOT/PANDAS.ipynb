{
 "cells": [
  {
   "cell_type": "markdown",
   "id": "d346749f-6899-432f-b1e4-34eb9460e6cd",
   "metadata": {},
   "source": [
    "## Working with Pandas"
   ]
  },
  {
   "cell_type": "markdown",
   "id": "f40ca92b-f65c-43b1-9f20-9bb8682836b5",
   "metadata": {},
   "source": [
    "## Creating a Series"
   ]
  },
  {
   "cell_type": "code",
   "execution_count": 2,
   "id": "473d912c-5276-495b-8611-31390aa08c03",
   "metadata": {},
   "outputs": [],
   "source": [
    "import pandas as pd\n",
    "import numpy as np"
   ]
  },
  {
   "cell_type": "code",
   "execution_count": 3,
   "id": "3fdab302-dfe8-40ac-a65e-ebffcceda980",
   "metadata": {},
   "outputs": [
    {
     "data": {
      "text/plain": [
       "0     1\n",
       "1     2\n",
       "2     3\n",
       "3     4\n",
       "4     5\n",
       "5    56\n",
       "6    67\n",
       "dtype: int64"
      ]
     },
     "execution_count": 3,
     "metadata": {},
     "output_type": "execute_result"
    }
   ],
   "source": [
    "#Series through list\n",
    "lst = [1,2,3,4,5,56,67]\n",
    "pd.Series(lst)"
   ]
  },
  {
   "cell_type": "code",
   "execution_count": 4,
   "id": "9200c236-3e2d-4079-9eec-876d4b6bfceb",
   "metadata": {},
   "outputs": [
    {
     "data": {
      "text/plain": [
       "0     1\n",
       "1     2\n",
       "2     3\n",
       "3     4\n",
       "4     5\n",
       "5     6\n",
       "6    78\n",
       "dtype: int32"
      ]
     },
     "execution_count": 4,
     "metadata": {},
     "output_type": "execute_result"
    }
   ],
   "source": [
    "#Series throug Numpy arry\n",
    "arr =np.array([1,2,3,4,5,6,78])\n",
    "pd.Series(arr)"
   ]
  },
  {
   "cell_type": "code",
   "execution_count": 5,
   "id": "bf7e43f7-635b-42d9-b9b1-dd2c6e07713c",
   "metadata": {},
   "outputs": [
    {
     "data": {
      "text/plain": [
       "1    Ishant\n",
       "4      Hari\n",
       "2       Ram\n",
       "dtype: object"
      ]
     },
     "execution_count": 5,
     "metadata": {},
     "output_type": "execute_result"
    }
   ],
   "source": [
    "#Giving Index from our own\n",
    "pd.Series(['Ishant','Hari','Ram'] ,index=[1,4,2])"
   ]
  },
  {
   "cell_type": "code",
   "execution_count": 6,
   "id": "0001c418-b567-44db-9e3b-c7c42b63124a",
   "metadata": {},
   "outputs": [
    {
     "data": {
      "text/plain": [
       "day1    1000\n",
       "day2     300\n",
       "day3     500\n",
       "dtype: int64"
      ]
     },
     "execution_count": 6,
     "metadata": {},
     "output_type": "execute_result"
    }
   ],
   "source": [
    "#Series through Dictionary Values\n",
    "steps = {'day1':1000,'day2':300,'day3':500}\n",
    "pd.Series(steps)"
   ]
  },
  {
   "cell_type": "code",
   "execution_count": 7,
   "id": "8dec6af5-f602-4c94-b602-8b9bba3e2ee4",
   "metadata": {},
   "outputs": [
    {
     "data": {
      "text/plain": [
       "0    5\n",
       "1    5\n",
       "2    5\n",
       "3    5\n",
       "dtype: int64"
      ]
     },
     "execution_count": 7,
     "metadata": {},
     "output_type": "execute_result"
    }
   ],
   "source": [
    "#Using Repeat Function\n",
    "pd.Series(5).repeat(4).reset_index(drop=True)"
   ]
  },
  {
   "cell_type": "code",
   "execution_count": 8,
   "id": "bbf39c0a-4cf8-4004-a250-f9b216a585f5",
   "metadata": {},
   "outputs": [
    {
     "data": {
      "text/plain": [
       "0    3\n",
       "1    3\n",
       "2    3\n",
       "3    3\n",
       "4    5\n",
       "5    5\n",
       "6    5\n",
       "7    5\n",
       "dtype: int64"
      ]
     },
     "execution_count": 8,
     "metadata": {},
     "output_type": "execute_result"
    }
   ],
   "source": [
    "pd.Series([3,5]).repeat([4,4]).reset_index(drop=True)"
   ]
  },
  {
   "cell_type": "markdown",
   "id": "d83618cd-48ff-4d27-a00d-b4c1adfeb07a",
   "metadata": {},
   "source": [
    "## Acessing Element"
   ]
  },
  {
   "cell_type": "code",
   "execution_count": 9,
   "id": "b10463cf-c092-4f9c-a72c-442ce1164b45",
   "metadata": {},
   "outputs": [
    {
     "data": {
      "text/plain": [
       "6    -1\n",
       "7   -96\n",
       "dtype: int64"
      ]
     },
     "execution_count": 9,
     "metadata": {},
     "output_type": "execute_result"
    }
   ],
   "source": [
    "s = pd.Series([1,4,6,3,5,0,-1,-96])\n",
    "s[6:8]"
   ]
  },
  {
   "cell_type": "code",
   "execution_count": 10,
   "id": "48ddf726-e50d-48b7-8b89-3216f14d38f0",
   "metadata": {},
   "outputs": [
    {
     "data": {
      "text/plain": [
       "1    4\n",
       "2    6\n",
       "3    3\n",
       "4    5\n",
       "5    0\n",
       "6   -1\n",
       "dtype: int64"
      ]
     },
     "execution_count": 10,
     "metadata": {},
     "output_type": "execute_result"
    }
   ],
   "source": [
    "s[1:-1]"
   ]
  },
  {
   "cell_type": "code",
   "execution_count": 11,
   "id": "fa1404ab-9ec7-478c-8e15-b7abee8b38fb",
   "metadata": {},
   "outputs": [
    {
     "data": {
      "text/plain": [
       "1    4\n",
       "2    6\n",
       "3    3\n",
       "4    5\n",
       "5    0\n",
       "6   -1\n",
       "dtype: int64"
      ]
     },
     "execution_count": 11,
     "metadata": {},
     "output_type": "execute_result"
    }
   ],
   "source": [
    "s[-7:-1]"
   ]
  },
  {
   "cell_type": "markdown",
   "id": "2c8e1143-a5a3-432c-9bf8-c01f778bfa9e",
   "metadata": {},
   "source": [
    "## Aggregate Functions in Pandas"
   ]
  },
  {
   "cell_type": "code",
   "execution_count": 12,
   "id": "3c4ded48-5c79-44ca-a609-d7138e3bb461",
   "metadata": {},
   "outputs": [
    {
     "data": {
      "text/plain": [
       "min          1.000000\n",
       "max        231.000000\n",
       "sum        360.000000\n",
       "median      25.000000\n",
       "average     51.428571\n",
       "dtype: float64"
      ]
     },
     "execution_count": 12,
     "metadata": {},
     "output_type": "execute_result"
    }
   ],
   "source": [
    "sr = pd.Series([1,2,45,33,23,231,25])\n",
    "sr.agg(['min','max','sum','median','average'])"
   ]
  },
  {
   "cell_type": "markdown",
   "id": "b26f9c53-9b1c-4366-bd0b-d999e96d8df2",
   "metadata": {},
   "source": [
    "## Series Absolute Functions"
   ]
  },
  {
   "cell_type": "code",
   "execution_count": 13,
   "id": "e58ef5a5-a0b3-4483-aa30-6eb516e91845",
   "metadata": {},
   "outputs": [
    {
     "data": {
      "text/plain": [
       "0     1.0\n",
       "1     3.0\n",
       "2    33.0\n",
       "3     8.0\n",
       "4     9.0\n",
       "5    12.0\n",
       "6    13.0\n",
       "dtype: float64"
      ]
     },
     "execution_count": 13,
     "metadata": {},
     "output_type": "execute_result"
    }
   ],
   "source": [
    "sr1 = pd.Series([1,-3,33,-8,-9,12.0,13])\n",
    "sr1.abs()"
   ]
  },
  {
   "cell_type": "markdown",
   "id": "938479ba-d28b-4fad-a937-57ec7ba16c1d",
   "metadata": {},
   "source": [
    "## Appending Series"
   ]
  },
  {
   "cell_type": "code",
   "execution_count": 14,
   "id": "cc037e21-85ab-4cca-a901-8262039109d5",
   "metadata": {},
   "outputs": [
    {
     "data": {
      "text/plain": [
       "0     1\n",
       "1     3\n",
       "2     3\n",
       "3    34\n",
       "4    13\n",
       "5    24\n",
       "6    43\n",
       "7    44\n",
       "8    73\n",
       "0     1\n",
       "1     2\n",
       "2     5\n",
       "3    67\n",
       "4    98\n",
       "5     4\n",
       "6    83\n",
       "7    14\n",
       "8    83\n",
       "dtype: int64"
      ]
     },
     "execution_count": 14,
     "metadata": {},
     "output_type": "execute_result"
    }
   ],
   "source": [
    "sr1 = pd.Series([1,3,3,34,13,24,43,44,73])\n",
    "sr2 = pd.Series([1,2,5,67,98,4,83,14,83])\n",
    "\n",
    "pd.concat([sr1,sr2])"
   ]
  },
  {
   "cell_type": "code",
   "execution_count": 15,
   "id": "699e0e91-788a-4ff2-8c11-ef23a2503186",
   "metadata": {},
   "outputs": [
    {
     "data": {
      "text/plain": [
       "0      1\n",
       "1      3\n",
       "2      3\n",
       "3     34\n",
       "4     13\n",
       "5     24\n",
       "6     43\n",
       "7     44\n",
       "8     73\n",
       "9      1\n",
       "10     2\n",
       "11     5\n",
       "12    67\n",
       "13    98\n",
       "14     4\n",
       "15    83\n",
       "16    14\n",
       "17    83\n",
       "dtype: int64"
      ]
     },
     "execution_count": 15,
     "metadata": {},
     "output_type": "execute_result"
    }
   ],
   "source": [
    "sr1 = pd.Series([1,3,3,34,13,24,43,44,73])\n",
    "sr2 = pd.Series([1,2,5,67,98,4,83,14,83])\n",
    "\n",
    "pd.concat([sr1,sr2]).reset_index(drop=True)"
   ]
  },
  {
   "cell_type": "code",
   "execution_count": 16,
   "id": "eb693e13-d66e-4d4a-ae76-4c23184e2a5f",
   "metadata": {},
   "outputs": [],
   "source": [
    "sr3 = pd.concat([sr1,sr2]).reset_index(drop=True)"
   ]
  },
  {
   "cell_type": "markdown",
   "id": "44de71c3-cf25-4e2a-8b75-8f2c0faeb97a",
   "metadata": {},
   "source": [
    "## astype function"
   ]
  },
  {
   "cell_type": "code",
   "execution_count": 17,
   "id": "454a557f-f061-4fcc-bb8a-05435a9a0bd4",
   "metadata": {},
   "outputs": [
    {
     "data": {
      "text/plain": [
       "pandas.core.series.Series"
      ]
     },
     "execution_count": 17,
     "metadata": {},
     "output_type": "execute_result"
    }
   ],
   "source": [
    "type(sr1)"
   ]
  },
  {
   "cell_type": "code",
   "execution_count": 18,
   "id": "54ce1f65-00f9-429f-a9f0-0298f8e1646a",
   "metadata": {},
   "outputs": [
    {
     "data": {
      "text/plain": [
       "numpy.int64"
      ]
     },
     "execution_count": 18,
     "metadata": {},
     "output_type": "execute_result"
    }
   ],
   "source": [
    "type(sr[0])"
   ]
  },
  {
   "cell_type": "code",
   "execution_count": 19,
   "id": "d3548d9b-971e-4ba1-bffa-a43cd341acb1",
   "metadata": {},
   "outputs": [
    {
     "data": {
      "text/plain": [
       "0     1.0\n",
       "1     3.0\n",
       "2     3.0\n",
       "3    34.0\n",
       "4    13.0\n",
       "5    24.0\n",
       "6    43.0\n",
       "7    44.0\n",
       "8    73.0\n",
       "dtype: float64"
      ]
     },
     "execution_count": 19,
     "metadata": {},
     "output_type": "execute_result"
    }
   ],
   "source": [
    "sr1.astype('float')"
   ]
  },
  {
   "cell_type": "code",
   "execution_count": 19,
   "id": "48798699-acba-40a6-b46c-1c4a72286c89",
   "metadata": {},
   "outputs": [
    {
     "data": {
      "text/plain": [
       "0      1.0\n",
       "1      3.0\n",
       "2      3.0\n",
       "3     34.0\n",
       "4     13.0\n",
       "5     24.0\n",
       "6     43.0\n",
       "7     44.0\n",
       "8     73.0\n",
       "9      1.0\n",
       "10     2.0\n",
       "11     5.0\n",
       "12    67.0\n",
       "13    98.0\n",
       "14     4.0\n",
       "15    83.0\n",
       "16    14.0\n",
       "17    83.0\n",
       "dtype: float64"
      ]
     },
     "execution_count": 19,
     "metadata": {},
     "output_type": "execute_result"
    }
   ],
   "source": [
    "sr3.astype('float')"
   ]
  },
  {
   "cell_type": "markdown",
   "id": "e395dfd1-8c9c-4e73-a81e-ae218b0a186a",
   "metadata": {},
   "source": [
    "## Between Function"
   ]
  },
  {
   "cell_type": "code",
   "execution_count": 20,
   "id": "50edd577-bc03-4cbc-9489-894e7ccbb61f",
   "metadata": {},
   "outputs": [],
   "source": [
    "sr4 = [1,2,3,12,2323,20,23,23,2332]\n",
    "sr4 = pd.Series(sr4)"
   ]
  },
  {
   "cell_type": "code",
   "execution_count": 21,
   "id": "9eedddb7-89e6-4c40-9296-877b2cfa7b3d",
   "metadata": {},
   "outputs": [
    {
     "data": {
      "text/plain": [
       "0     True\n",
       "1     True\n",
       "2     True\n",
       "3     True\n",
       "4    False\n",
       "5     True\n",
       "6     True\n",
       "7     True\n",
       "8    False\n",
       "dtype: bool"
      ]
     },
     "execution_count": 21,
     "metadata": {},
     "output_type": "execute_result"
    }
   ],
   "source": [
    "sr4.between(1,100)"
   ]
  },
  {
   "cell_type": "markdown",
   "id": "a7930f55-0f77-42f4-86bc-e3e145f3ac49",
   "metadata": {},
   "source": [
    "## All strings function can be used to extract or modify texts in a series "
   ]
  },
  {
   "cell_type": "code",
   "execution_count": 58,
   "id": "6b348116-79c4-40ae-bd16-a1a4739c56b7",
   "metadata": {},
   "outputs": [],
   "source": [
    "ser = pd.Series(['Ish ant', 'Rahul ', ' Prashant '])"
   ]
  },
  {
   "cell_type": "code",
   "execution_count": 59,
   "id": "45bd145f-e17d-41db-b15c-58b814de7dc0",
   "metadata": {},
   "outputs": [],
   "source": [
    "s = ser.str.strip()\n"
   ]
  },
  {
   "cell_type": "code",
   "execution_count": 60,
   "id": "e9af0838-be6a-48ad-9c8c-6556d97a1975",
   "metadata": {},
   "outputs": [
    {
     "data": {
      "text/plain": [
       "0     Ish ant\n",
       "1       Rahul\n",
       "2    Prashant\n",
       "dtype: object"
      ]
     },
     "execution_count": 60,
     "metadata": {},
     "output_type": "execute_result"
    }
   ],
   "source": [
    "s"
   ]
  },
  {
   "cell_type": "code",
   "execution_count": 61,
   "id": "a4495058-7b66-48b3-abfd-fe8d135463d9",
   "metadata": {},
   "outputs": [
    {
     "data": {
      "text/plain": [
       "0     ISH ANT\n",
       "1       RAHUL\n",
       "2    PRASHANT\n",
       "dtype: object"
      ]
     },
     "execution_count": 61,
     "metadata": {},
     "output_type": "execute_result"
    }
   ],
   "source": [
    "ser = s.str.upper()\n",
    "ser"
   ]
  },
  {
   "cell_type": "code",
   "execution_count": 62,
   "id": "03e510ad-ba31-4e08-b88e-baa57124fcc2",
   "metadata": {},
   "outputs": [
    {
     "data": {
      "text/plain": [
       "0     ish ant\n",
       "1       rahul\n",
       "2    prashant\n",
       "dtype: object"
      ]
     },
     "execution_count": 62,
     "metadata": {},
     "output_type": "execute_result"
    }
   ],
   "source": [
    "ser = s.str.lower()\n",
    "ser"
   ]
  },
  {
   "cell_type": "code",
   "execution_count": 63,
   "id": "b6ae8a90-a133-4d0e-ba95-643c0e996579",
   "metadata": {},
   "outputs": [
    {
     "data": {
      "text/plain": [
       "0    [Ish, ant]\n",
       "1       [Rahul]\n",
       "2    [Prashant]\n",
       "dtype: object"
      ]
     },
     "execution_count": 63,
     "metadata": {},
     "output_type": "execute_result"
    }
   ],
   "source": [
    "ser = s.str.split()\n",
    "ser"
   ]
  },
  {
   "cell_type": "code",
   "execution_count": 72,
   "id": "fe0ce1b4-5df8-405d-a3a1-8255dd0e814b",
   "metadata": {},
   "outputs": [],
   "source": [
    "sr = pd.Series(['Bikash','hair','Raghav'])"
   ]
  },
  {
   "cell_type": "code",
   "execution_count": 73,
   "id": "cf1e33de-a509-4623-8490-31661876c8f3",
   "metadata": {},
   "outputs": [
    {
     "data": {
      "text/plain": [
       "0    [Bikash]\n",
       "1      [hair]\n",
       "2    [Raghav]\n",
       "dtype: object"
      ]
     },
     "execution_count": 73,
     "metadata": {},
     "output_type": "execute_result"
    }
   ],
   "source": [
    "sr = sr.str.split()\n",
    "sr"
   ]
  },
  {
   "cell_type": "code",
   "execution_count": null,
   "id": "8efed7af-2ddb-4e89-ad94-f250d8e004c6",
   "metadata": {},
   "outputs": [],
   "source": []
  }
 ],
 "metadata": {
  "kernelspec": {
   "display_name": "Python 3 (ipykernel)",
   "language": "python",
   "name": "python3"
  },
  "language_info": {
   "codemirror_mode": {
    "name": "ipython",
    "version": 3
   },
   "file_extension": ".py",
   "mimetype": "text/x-python",
   "name": "python",
   "nbconvert_exporter": "python",
   "pygments_lexer": "ipython3",
   "version": "3.11.5"
  }
 },
 "nbformat": 4,
 "nbformat_minor": 5
}
