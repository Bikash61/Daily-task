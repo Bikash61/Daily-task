{
 "cells": [
  {
   "cell_type": "code",
   "execution_count": 3,
   "id": "41eda7cf-ea2e-47a1-9d6d-6cb64ea6f847",
   "metadata": {},
   "outputs": [],
   "source": [
    "def greet ():\n",
    "    print(\"Hello world\")"
   ]
  },
  {
   "cell_type": "code",
   "execution_count": 5,
   "id": "ddc4aec2-bf96-4c78-ba24-0eea6c26ef1f",
   "metadata": {},
   "outputs": [
    {
     "name": "stdout",
     "output_type": "stream",
     "text": [
      "Hello world\n"
     ]
    }
   ],
   "source": [
    "greet()"
   ]
  },
  {
   "cell_type": "code",
   "execution_count": 4,
   "id": "ca00aa82-28d8-4c75-a802-1377de0c92f7",
   "metadata": {},
   "outputs": [
    {
     "name": "stdout",
     "output_type": "stream",
     "text": [
      "Hello world\n",
      "Hello world\n",
      "Hello world\n"
     ]
    }
   ],
   "source": [
    "for i in range(3):\n",
    "    greet()"
   ]
  },
  {
   "cell_type": "code",
   "execution_count": 2,
   "id": "96d523c5-4a3d-4237-b324-8f88cb1050d2",
   "metadata": {},
   "outputs": [
    {
     "name": "stdout",
     "output_type": "stream",
     "text": [
      "8\n",
      "17\n"
     ]
    }
   ],
   "source": [
    "def calc_sum(a,b):\n",
    "    sum = a+b\n",
    "    print(sum)\n",
    "\n",
    "calc_sum(3,5)\n",
    "calc_sum(8,9)"
   ]
  },
  {
   "cell_type": "code",
   "execution_count": 3,
   "id": "fa9cd4d8-5fac-4f5f-98da-f7d914cead3e",
   "metadata": {},
   "outputs": [
    {
     "name": "stdout",
     "output_type": "stream",
     "text": [
      "My name is  Bikash\n",
      "My college name is  Maharishi Markandswar deemed to be university\n",
      "My address is  Bagnaskali-8, palpa\n"
     ]
    }
   ],
   "source": [
    "def about_me(name, college, address):\n",
    "    print(\"My name is \", name)\n",
    "    print(\"My college name is \", college)\n",
    "    print(\"My address is \", address)\n",
    "\n",
    "about_me(\"Bikash\", \"Maharishi Markandswar deemed to be university\", \"Bagnaskali-8, palpa\")"
   ]
  },
  {
   "cell_type": "code",
   "execution_count": null,
   "id": "b4634cdb-ff75-4ae5-bfd3-6e96eb03e073",
   "metadata": {},
   "outputs": [],
   "source": []
  }
 ],
 "metadata": {
  "kernelspec": {
   "display_name": "Python 3 (ipykernel)",
   "language": "python",
   "name": "python3"
  },
  "language_info": {
   "codemirror_mode": {
    "name": "ipython",
    "version": 3
   },
   "file_extension": ".py",
   "mimetype": "text/x-python",
   "name": "python",
   "nbconvert_exporter": "python",
   "pygments_lexer": "ipython3",
   "version": "3.11.5"
  }
 },
 "nbformat": 4,
 "nbformat_minor": 5
}
