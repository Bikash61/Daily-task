{
 "cells": [
  {
   "cell_type": "code",
   "execution_count": 3,
   "id": "a0a8b05d-566e-405e-a621-88345d759d62",
   "metadata": {},
   "outputs": [
    {
     "name": "stdout",
     "output_type": "stream",
     "text": [
      "{'mango': 30, 'cat': 55}\n",
      "30\n"
     ]
    }
   ],
   "source": [
    "man = {'mango': 30, 'cat':55}\n",
    "print(man)\n",
    "print(man['mango'])"
   ]
  },
  {
   "cell_type": "code",
   "execution_count": 16,
   "id": "1e0b3224-df82-4ed8-b992-13290b084f6a",
   "metadata": {},
   "outputs": [
    {
     "name": "stdout",
     "output_type": "stream",
     "text": [
      "{'brand': 'Thar', 'Model': '234Mr', 'year': 1323}\n",
      "234Mr\n",
      "dict_keys(['brand', 'Model', 'year'])\n",
      "dict_values(['Thar', '234Mr', 1323])\n"
     ]
    }
   ],
   "source": [
    "set = {\n",
    "    \"brand\": \"Thar\",\n",
    "    \"Model\": \"234Mr\",\n",
    "    \"year\": 1323\n",
    "}\n",
    "print(set)\n",
    "print(set[\"Model\"])\n",
    "x = set.keys()\n",
    "y = set.values()\n",
    "print(x)\n",
    "print(y)"
   ]
  },
  {
   "cell_type": "code",
   "execution_count": null,
   "id": "45ea83b5-8938-42d4-8735-b6b25c48a248",
   "metadata": {},
   "outputs": [],
   "source": []
  },
  {
   "cell_type": "code",
   "execution_count": null,
   "id": "dd07ec70-720d-4e9e-939d-7fa82348ee43",
   "metadata": {},
   "outputs": [],
   "source": []
  }
 ],
 "metadata": {
  "kernelspec": {
   "display_name": "Python 3 (ipykernel)",
   "language": "python",
   "name": "python3"
  },
  "language_info": {
   "codemirror_mode": {
    "name": "ipython",
    "version": 3
   },
   "file_extension": ".py",
   "mimetype": "text/x-python",
   "name": "python",
   "nbconvert_exporter": "python",
   "pygments_lexer": "ipython3",
   "version": "3.11.5"
  }
 },
 "nbformat": 4,
 "nbformat_minor": 5
}
