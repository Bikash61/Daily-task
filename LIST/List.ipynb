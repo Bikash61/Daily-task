{
 "cells": [
  {
   "cell_type": "code",
   "execution_count": 6,
   "id": "5e6cab04-3fd7-4b17-b720-0c033ea93e1e",
   "metadata": {},
   "outputs": [
    {
     "name": "stdout",
     "output_type": "stream",
     "text": [
      "[6, 7, 8, 9]\n",
      "<class 'list'>\n"
     ]
    },
    {
     "data": {
      "text/plain": [
       "9"
      ]
     },
     "execution_count": 6,
     "metadata": {},
     "output_type": "execute_result"
    }
   ],
   "source": [
    "#list in python \n",
    "\n",
    "l = [6,7,8,9]\n",
    "print(l)\n",
    "print(type(l))\n",
    "l[0]\n",
    "l[1]\n",
    "l[3]\n"
   ]
  },
  {
   "cell_type": "code",
   "execution_count": 9,
   "id": "1b211ae3-417a-4dd6-8d42-d9392e2560fb",
   "metadata": {},
   "outputs": [
    {
     "name": "stdout",
     "output_type": "stream",
     "text": [
      "[2, 3, 5, 5]\n"
     ]
    },
    {
     "data": {
      "text/plain": [
       "list"
      ]
     },
     "execution_count": 9,
     "metadata": {},
     "output_type": "execute_result"
    }
   ],
   "source": [
    "lst = (2,3,5,5)\n",
    "lstm = list(lst)\n",
    "print(lstm)\n",
    "type(lstm)"
   ]
  },
  {
   "cell_type": "code",
   "execution_count": 19,
   "id": "71c2f050-979d-4ffc-949d-7fd1dd90a030",
   "metadata": {},
   "outputs": [
    {
     "name": "stdout",
     "output_type": "stream",
     "text": [
      "2\n",
      "4\n",
      "[4, 5, 6]\n",
      "Yes it is in list\n"
     ]
    }
   ],
   "source": [
    "lst = [1,2,4,5,6,6]\n",
    "print(lst[1])\n",
    "print(lst[-4])\n",
    "print(lst[-4:-1])\n",
    "if 6 in lst:\n",
    "    print(\"Yes it is in list\")"
   ]
  },
  {
   "cell_type": "code",
   "execution_count": 20,
   "id": "00b6fba0-63f3-4c55-b471-63f5bb7aef78",
   "metadata": {},
   "outputs": [
    {
     "name": "stdout",
     "output_type": "stream",
     "text": [
      "['apple', 'banana', 'Carrot', True]\n"
     ]
    }
   ],
   "source": [
    "#Change item in list \n",
    "lst = [ \"apple\", \"banana\", 2 , True]\n",
    "lst[2] = \"Carrot\"\n",
    "print(lst)"
   ]
  },
  {
   "cell_type": "code",
   "execution_count": 30,
   "id": "362e14fd-2f43-4af4-a75b-2de8d069d34e",
   "metadata": {},
   "outputs": [
    {
     "name": "stdout",
     "output_type": "stream",
     "text": [
      "['Start of list', 1, 2, 'apple', 'banana', 'Carrot', 'Mango', 7, 8, 'End of List']\n"
     ]
    }
   ],
   "source": [
    "#Change range of item of value \n",
    "lst = [1,2,3,4,5,6,7,8]\n",
    "lst[2:6]= [\"apple\", \"banana\", \"Carrot\",\"Mango\"]\n",
    "lst.insert(8, \"End of List\")\n",
    "lst.insert(0,\"Start of list\")\n",
    "print(lst)"
   ]
  },
  {
   "cell_type": "code",
   "execution_count": 34,
   "id": "a5e3dccf-908f-45b3-89fc-228ff4835a64",
   "metadata": {},
   "outputs": [
    {
     "name": "stdout",
     "output_type": "stream",
     "text": [
      "[1, 2, 4, 6, 7, 6, 'apple']\n"
     ]
    }
   ],
   "source": [
    "#Append \n",
    "lst = [1,2,4,6,7,6]\n",
    "lst.append(\"apple\")\n",
    "print(lst)"
   ]
  },
  {
   "cell_type": "code",
   "execution_count": 38,
   "id": "0a5aabbc-a228-4714-91bb-4fdd3b3658a5",
   "metadata": {},
   "outputs": [
    {
     "name": "stdout",
     "output_type": "stream",
     "text": [
      "[1, 3, 4, 6, 7, 8, 9, 1, 4, 6, 5, 7, 8, 0, 3]\n",
      "[1, 4, 6, 5, 7, 8, 0, 3]\n"
     ]
    }
   ],
   "source": [
    "#Extend\n",
    "lst1 = [1,4,6,5,7,8,0,3]\n",
    "lst2 = [1,3,4,6,7,8,9]\n",
    "lst2.extend(lst1)\n",
    "print(lst2)\n",
    "print(lst1)"
   ]
  },
  {
   "cell_type": "code",
   "execution_count": 41,
   "id": "68078e00-2fd5-4600-9b81-2399c86ec72f",
   "metadata": {},
   "outputs": [
    {
     "name": "stdout",
     "output_type": "stream",
     "text": [
      "[1, 2, 4, 5, 6, 1, 2, 3, 4, 5]\n",
      "(1, 2, 3, 4, 5)\n"
     ]
    }
   ],
   "source": [
    "#Add any iterable \n",
    "lst1 = [1,2,4,5,6]\n",
    "tuple = (1,2,3,4,5)\n",
    "\n",
    "lst1.extend(tuple)\n",
    "print(lst1)\n",
    "print(tuple)"
   ]
  },
  {
   "cell_type": "code",
   "execution_count": 58,
   "id": "0028246b-fa4c-4950-8f8e-8c9a6cd8a00b",
   "metadata": {},
   "outputs": [
    {
     "name": "stdout",
     "output_type": "stream",
     "text": [
      "[1, 2, 3, 5, 'apple']\n",
      "[1, 2, 3, 5]\n",
      "[]\n"
     ]
    }
   ],
   "source": [
    "#Remove items list\n",
    "#Remove specific items\n",
    "\n",
    "lst = [\"apple\",1,2,3,5,\"apple\"]\n",
    "lst.pop(0)\n",
    "\n",
    "print(lst)\n",
    "#using del keyword\n",
    "del lst[4]\n",
    "print(lst)\n",
    "lst.clear()\n",
    "print(lst)\n"
   ]
  },
  {
   "cell_type": "code",
   "execution_count": 60,
   "id": "4052a294-8c54-4ce5-bc23-b66105b54aac",
   "metadata": {},
   "outputs": [
    {
     "name": "stdout",
     "output_type": "stream",
     "text": [
      "1 2 3 4 6 "
     ]
    }
   ],
   "source": [
    "#loop through  a list\n",
    "lst = [1,2,3,4,6]\n",
    "for i in lst:\n",
    "    print(i, end = \" \")"
   ]
  },
  {
   "cell_type": "code",
   "execution_count": 1,
   "id": "3cf454f8-47be-4e79-bea5-be4bf143900b",
   "metadata": {},
   "outputs": [
    {
     "name": "stdout",
     "output_type": "stream",
     "text": [
      "apple\n",
      "banana\n",
      "carrot\n"
     ]
    }
   ],
   "source": [
    "lst = ['apple', 'banana', 'carrot']\n",
    "i = 0\n",
    "while i < len(lst):\n",
    "    print(lst[i])\n",
    "    i = i +1"
   ]
  },
  {
   "cell_type": "code",
   "execution_count": 2,
   "id": "e326e791-ebdf-49d6-92e6-fa634d917e2a",
   "metadata": {},
   "outputs": [
    {
     "name": "stdout",
     "output_type": "stream",
     "text": [
      "cat 1 3 True man "
     ]
    }
   ],
   "source": [
    "lst = [\"cat\", 1,3, True, \"man\"]\n",
    "i = 0\n",
    "while i <len(lst):\n",
    "    print(lst[i] , end = \" \")\n",
    "    i = i+1"
   ]
  },
  {
   "cell_type": "code",
   "execution_count": null,
   "id": "ef256a87",
   "metadata": {},
   "outputs": [],
   "source": []
  }
 ],
 "metadata": {
  "kernelspec": {
   "display_name": "Python 3 (ipykernel)",
   "language": "python",
   "name": "python3"
  },
  "language_info": {
   "codemirror_mode": {
    "name": "ipython",
    "version": 3
   },
   "file_extension": ".py",
   "mimetype": "text/x-python",
   "name": "python",
   "nbconvert_exporter": "python",
   "pygments_lexer": "ipython3",
   "version": "3.11.4"
  }
 },
 "nbformat": 4,
 "nbformat_minor": 5
}
