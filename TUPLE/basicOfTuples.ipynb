{
 "cells": [
  {
   "cell_type": "code",
   "execution_count": 1,
   "id": "9a23b58a-fac4-456b-a183-531dfce304dc",
   "metadata": {},
   "outputs": [
    {
     "name": "stdout",
     "output_type": "stream",
     "text": [
      "(1, 3, 4, 6)\n"
     ]
    }
   ],
   "source": [
    "tup = (1,3,4,6,)\n",
    "print(tup)"
   ]
  },
  {
   "cell_type": "code",
   "execution_count": 2,
   "id": "55857873-7ac5-45bc-ae66-c79edd54a374",
   "metadata": {},
   "outputs": [
    {
     "name": "stdout",
     "output_type": "stream",
     "text": [
      "('man', 'cat', 1, 2, 5, True)\n"
     ]
    }
   ],
   "source": [
    "#Indexing in tuple\n",
    "tup = (\"Bikash\", \"man\", 'cat', 1,2,5, True)\n",
    "print(tup[1:])"
   ]
  },
  {
   "cell_type": "code",
   "execution_count": 3,
   "id": "431f1269-aa5e-44fd-9f69-3a555746b9eb",
   "metadata": {},
   "outputs": [
    {
     "name": "stdout",
     "output_type": "stream",
     "text": [
      "('man', 'cat', 1, 2, 5)\n"
     ]
    }
   ],
   "source": [
    "#Indexing in tuple with positive and negative index\n",
    "print(tup[-6:6])"
   ]
  },
  {
   "cell_type": "code",
   "execution_count": 4,
   "id": "e8d5ffc0-bd43-41bb-b339-2eaa8c6e8b96",
   "metadata": {},
   "outputs": [
    {
     "name": "stdout",
     "output_type": "stream",
     "text": [
      "(2, 5, True)\n"
     ]
    }
   ],
   "source": [
    "#Indexing in tuple with range\n",
    "print(tup[-3:])"
   ]
  },
  {
   "cell_type": "code",
   "execution_count": 7,
   "id": "09329375-d778-4060-be89-7762a6b7a056",
   "metadata": {},
   "outputs": [
    {
     "name": "stdout",
     "output_type": "stream",
     "text": [
      "(True, 'pan', 'c', 1, 8.94)\n"
     ]
    }
   ],
   "source": [
    "#Tuple can't be modified, we modified it by changing tuple into list \n",
    "#and we remove it and agin change it into tuple\n",
    "\n",
    "tup = (\"Bikash\",True, \"pan\", 'c', 1,8.94) \n",
    "lst = list(tup)\n",
    "lst.remove(\"Bikash\")\n",
    "tup = tuple(lst)\n",
    "print(tup)\n"
   ]
  },
  {
   "cell_type": "code",
   "execution_count": 9,
   "id": "9daf8461-78ee-4b1a-b683-2d14ccd0f267",
   "metadata": {},
   "outputs": [
    {
     "name": "stdout",
     "output_type": "stream",
     "text": [
      "Element don't exist\n"
     ]
    }
   ],
   "source": [
    "#Checking the element in the tuple \n",
    "tup = (\"apple\", \"mango\", \"cat\", \"dog\")\n",
    "if \"apple\" in tup:\n",
    "    print(\"Apple is in the tuple\")\n",
    "else:\n",
    "    print(\"Element don't exist\")"
   ]
  },
  {
   "cell_type": "code",
   "execution_count": 10,
   "id": "e432107e-8e48-4df2-a57b-82260231087c",
   "metadata": {},
   "outputs": [
    {
     "name": "stdout",
     "output_type": "stream",
     "text": [
      "(1, 'apple', 3, 4)\n"
     ]
    }
   ],
   "source": [
    "#change tuple vqlues\n",
    "tup = (1,2,3,4)\n",
    "y = list(tup)\n",
    "y[1] = \"apple\"\n",
    "tup = tuple(y)\n",
    "print(tup)"
   ]
  },
  {
   "cell_type": "code",
   "execution_count": null,
   "id": "110b6314-d148-45e3-a298-c8bc557c78a5",
   "metadata": {},
   "outputs": [],
   "source": []
  },
  {
   "cell_type": "code",
   "execution_count": null,
   "id": "aab29ec1-a45f-43a8-aeee-77c2c841714c",
   "metadata": {},
   "outputs": [],
   "source": []
  },
  {
   "cell_type": "code",
   "execution_count": null,
   "id": "6f58bbd8-2a27-4134-8ebe-c547b6a5225d",
   "metadata": {},
   "outputs": [],
   "source": []
  }
 ],
 "metadata": {
  "kernelspec": {
   "display_name": "Python 3 (ipykernel)",
   "language": "python",
   "name": "python3"
  },
  "language_info": {
   "codemirror_mode": {
    "name": "ipython",
    "version": 3
   },
   "file_extension": ".py",
   "mimetype": "text/x-python",
   "name": "python",
   "nbconvert_exporter": "python",
   "pygments_lexer": "ipython3",
   "version": "3.11.5"
  }
 },
 "nbformat": 4,
 "nbformat_minor": 5
}
